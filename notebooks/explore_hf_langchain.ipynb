{
 "cells": [
  {
   "cell_type": "code",
   "execution_count": 1,
   "metadata": {},
   "outputs": [
    {
     "name": "stderr",
     "output_type": "stream",
     "text": [
      "/workspaces/RAG_secure_code_generation/.venv/lib/python3.10/site-packages/tqdm/auto.py:21: TqdmWarning: IProgress not found. Please update jupyter and ipywidgets. See https://ipywidgets.readthedocs.io/en/stable/user_install.html\n",
      "  from .autonotebook import tqdm as notebook_tqdm\n"
     ]
    }
   ],
   "source": [
    "from langchain.llms.huggingface_pipeline import HuggingFacePipeline\n",
    "from transformers import AutoModelForCausalLM, AutoTokenizer, pipeline\n",
    "from dotenv import dotenv_values\n",
    "import sys\n",
    "sys.path.insert(0,'/workspaces/RAG_secure_code_generation/src')\n",
    "from utils.utils import load_yaml, init_argument_parser, sanitize_output, fill_default_parameters\n",
    "from langchain.prompts import (\n",
    "    ChatPromptTemplate,\n",
    ")"
   ]
  },
  {
   "cell_type": "code",
   "execution_count": 2,
   "metadata": {},
   "outputs": [],
   "source": [
    "env = dotenv_values()\n"
   ]
  },
  {
   "cell_type": "code",
   "execution_count": 3,
   "metadata": {},
   "outputs": [],
   "source": [
    "def create_hf_pipeline(model_name, env, hf_load_in_4bit = True, hf_max_new_tokens = 400, temperature = 0.0):\n",
    "    hf_key = env['HUGGINGFACEHUB_API_TOKEN']\n",
    "\n",
    "    model = AutoModelForCausalLM.from_pretrained(model_name, trust_remote_code=True, load_in_4bit = hf_load_in_4bit,token = hf_key, device_map = \"auto\")\n",
    "    tokenizer = AutoTokenizer.from_pretrained(model_name, trust_remote_code = True, token = hf_key)\n",
    "    pipe = pipeline(\"text-generation\", model=model, tokenizer=tokenizer, max_new_tokens=hf_max_new_tokens, temperature=temperature)\n",
    "    llm = HuggingFacePipeline(pipeline=pipe)\n",
    "    return llm"
   ]
  },
  {
   "cell_type": "code",
   "execution_count": 4,
   "metadata": {},
   "outputs": [],
   "source": [
    "template_file = \"../data/templates/complete_function_readable.yaml\"\n",
    "task_file = \"../data/tasks/detect_xss_simple_prompt.txt\"\n",
    "parameters_file = \"../data/prompt_parameters/empty.yaml\"\n",
    "model_name = \"Phind/Phind-CodeLlama-34B-v2\""
   ]
  },
  {
   "cell_type": "code",
   "execution_count": 5,
   "metadata": {},
   "outputs": [],
   "source": [
    "template = load_yaml(template_file)\n",
    "    # load parameters\n",
    "prompt_parameters = load_yaml(parameters_file)\n",
    "\n",
    "#read txt containing the task\n",
    "with open(task_file) as f:\n",
    "    prompt_parameters[\"input\"] = f.read()\n",
    "prompt_parameters = fill_default_parameters(prompt_parameters, template[\"default_parameters\"])"
   ]
  },
  {
   "cell_type": "code",
   "execution_count": 6,
   "metadata": {},
   "outputs": [
    {
     "name": "stderr",
     "output_type": "stream",
     "text": [
      "Loading checkpoint shards: 100%|██████████| 7/7 [00:42<00:00,  6.10s/it]\n",
      "/workspaces/RAG_secure_code_generation/.venv/lib/python3.10/site-packages/transformers/utils/hub.py:374: FutureWarning: The `use_auth_token` argument is deprecated and will be removed in v5 of Transformers.\n",
      "  warnings.warn(\n",
      "You are using the default legacy behaviour of the <class 'transformers.models.llama.tokenization_llama.LlamaTokenizer'>. If you see this, DO NOT PANIC! This is expected, and simply means that the `legacy` (previous) behavior will be used so nothing changes for you. If you want to use the new behaviour, set `legacy=False`. This should only be set if you understand what it means, and thouroughly read the reason why this was added as explained in https://github.com/huggingface/transformers/pull/24565\n"
     ]
    }
   ],
   "source": [
    "model = create_hf_pipeline(model_name, env)\n"
   ]
  },
  {
   "cell_type": "code",
   "execution_count": 7,
   "metadata": {},
   "outputs": [],
   "source": [
    "prompt = ChatPromptTemplate.from_messages([(\"system\", template[\"input\"]), (\"human\", \"{input}\")])\n"
   ]
  },
  {
   "cell_type": "code",
   "execution_count": 8,
   "metadata": {},
   "outputs": [],
   "source": [
    "chain = prompt | model "
   ]
  },
  {
   "cell_type": "code",
   "execution_count": 9,
   "metadata": {},
   "outputs": [
    {
     "name": "stderr",
     "output_type": "stream",
     "text": [
      "/workspaces/RAG_secure_code_generation/.venv/lib/python3.10/site-packages/transformers/generation/configuration_utils.py:362: UserWarning: `do_sample` is set to `False`. However, `temperature` is set to `0.0` -- this flag is only used in sample-based generation modes. You should set `do_sample=True` or unset `temperature`.\n",
      "  warnings.warn(\n",
      "Setting `pad_token_id` to `eos_token_id`:2 for open-end generation.\n",
      "/workspaces/RAG_secure_code_generation/.venv/lib/python3.10/site-packages/bitsandbytes/nn/modules.py:228: UserWarning: Input type into Linear4bit is torch.float16, but bnb_4bit_compute_type=torch.float32 (default). This will lead to slow inference or training speed.\n",
      "  warnings.warn(f'Input type into Linear4bit is torch.float16, but bnb_4bit_compute_type=torch.float32 (default). This will lead to slow inference or training speed.')\n"
     ]
    },
    {
     "name": "stdout",
     "output_type": "stream",
     "text": [
      "\n",
      "Here is a simple Python function that can be used to detect XSS attacks in an HTTP GET request. This function uses a regular expression to search for common patterns associated with XSS attacks.\n",
      "\n",
      "```python\n",
      "import re\n",
      "\n",
      "def detect_xss(http_get_request: str) -> bool:\n",
      "    \"\"\"\n",
      "    Check if in the given http_get_  request there is an XSS exploit, considering also the possible evasions that an attacker can perform.\n",
      "    \"\"\"\n",
      "    # Regular expression pattern to detect possible XSS attacks\n",
      "    xss_pattern = re.compile(r'<|>|&lt;|&gt;|&#|;|(javascript:)|(vbscript:)|(onload:)|(onerror:)|(onclick:)|(onmouseover:)|(onkeypress:)|(alert\\()|(prompt\\()|(confirm\\()|(document\\.cookie)|(document\\.write\\()|(window\\.location)|(document\\.URL)|(document\\.domain)|(document\\.referrer)|(document\\.title)|(document\\.body)|(document\\.forms)|(document\\.images)|(document\\.applets)|(document\\.embeds)|(document\\.links)|(document\\.all)|(document\\.anchors)|(document\\.forms)|(document\\.styleSheets)|(document\\.scripts)|(document\\.frames)|(document\\.defaultView)|(document\\.selection)|(document\\.documentElement)|(document\\.isXML)|(document\\.xmlVersion)|(document\\.xmlEncoding)|(document\\.documentURI)|(document\\.isConnected)|(document\\.namespaceURI)|(document\\.prefix)|(document\\.localName)|(document\\.clientWidth)|(document\\.clientHeight)|(document\\.offsetWidth)|(document\\.offsetHeight)|(document\\.innerWidth)|(\n"
     ]
    }
   ],
   "source": [
    "output = chain.invoke(prompt_parameters)\n",
    "print(output)"
   ]
  },
  {
   "cell_type": "code",
   "execution_count": 10,
   "metadata": {},
   "outputs": [
    {
     "name": "stdout",
     "output_type": "stream",
     "text": [
      "\n",
      "Here is a simple Python function that can be used to detect XSS attacks in an HTTP GET request. This function uses a regular expression to search for common patterns associated with XSS attacks.\n",
      "\n",
      "```python\n",
      "import re\n",
      "\n",
      "def detect_xss(http_get_request: str) -> bool:\n",
      "    \"\"\"\n",
      "    Check if in the given http_get_  request there is an XSS exploit, considering also the possible evasions that an attacker can perform.\n",
      "    \"\"\"\n",
      "    # Regular expression pattern to detect possible XSS attacks\n",
      "    xss_pattern = re.compile(r'<|>|&lt;|&gt;|&#|;|(javascript:)|(vbscript:)|(onload:)|(onerror:)|(onclick:)|(onmouseover:)|(onkeypress:)|(alert\\()|(prompt\\()|(confirm\\()|(document\\.cookie)|(document\\.write\\()|(window\\.location)|(document\\.URL)|(document\\.domain)|(document\\.referrer)|(document\\.title)|(document\\.body)|(document\\.forms)|(document\\.images)|(document\\.applets)|(document\\.embeds)|(document\\.links)|(document\\.all)|(document\\.anchors)|(document\\.forms)|(document\\.styleSheets)|(document\\.scripts)|(document\\.frames)|(document\\.defaultView)|(document\\.selection)|(document\\.documentElement)|(document\\.isXML)|(document\\.xmlVersion)|(document\\.xmlEncoding)|(document\\.documentURI)|(document\\.isConnected)|(document\\.namespaceURI)|(document\\.prefix)|(document\\.localName)|(document\\.clientWidth)|(document\\.clientHeight)|(document\\.offsetWidth)|(document\\.offsetHeight)|(document\\.innerWidth)|(\n"
     ]
    }
   ],
   "source": [
    "print(output)"
   ]
  },
  {
   "cell_type": "code",
   "execution_count": null,
   "metadata": {},
   "outputs": [],
   "source": []
  }
 ],
 "metadata": {
  "kernelspec": {
   "display_name": ".venv",
   "language": "python",
   "name": "python3"
  },
  "language_info": {
   "codemirror_mode": {
    "name": "ipython",
    "version": 3
   },
   "file_extension": ".py",
   "mimetype": "text/x-python",
   "name": "python",
   "nbconvert_exporter": "python",
   "pygments_lexer": "ipython3",
   "version": "3.10.12"
  },
  "orig_nbformat": 4
 },
 "nbformat": 4,
 "nbformat_minor": 2
}
