{
 "cells": [
  {
   "cell_type": "code",
   "execution_count": 5,
   "metadata": {},
   "outputs": [],
   "source": [
    "script = \"src/generation_test_pipeline.py\""
   ]
  },
  {
   "cell_type": "code",
   "execution_count": 6,
   "metadata": {},
   "outputs": [],
   "source": [
    "sqli_filter_cheat_sheet = \"https://websec.wordpress.com/2010/12/04/sqli-filter-evasion-cheat-sheet-mysql/\"\n",
    "owasp_cheat_sheet = \"https://cheatsheetseries.owasp.org/cheatsheets/SQL_Injection_Prevention_Cheat_Sheet.html\"\n",
    "invicti_cheat_sheet = \"https://www.invicti.com/blog/web-security/sql-injection-cheat-sheet/\"\n",
    "pentest_cheat_sheet = \"https://pentest-tools.com/blog/sql-injection-attacks\"\n",
    "w3school = \"https://www.w3schools.com/sql/sql_injection.asp\"\n",
    "pent = \"https://pentestmonkey.net/cheat-sheet/sql-injection/mysql-sql-injection-cheat-sheet\""
   ]
  },
  {
   "cell_type": "code",
   "execution_count": 7,
   "metadata": {},
   "outputs": [],
   "source": [
    "params = {\n",
    "    \"model_name\" : \"gpt-4-0125-preview\", \n",
    "    \"temperature\" : 0.0, \n",
    "    \"task\" : \"data/tasks/detect_sqli_extended.txt\", \n",
    "    \"template\" : \"data/templates/create_function_readable.yaml\", \n",
    "    \"prompt_parameters\" : \"data/prompt_parameters/empty.yaml\",\n",
    "    \"generation_mode\" : \"few_shot\",\n",
    "    \"experiments_folder\" : \"generated_function_runs\",\n",
    "    \"experiments\" : 5,\n",
    "    \"parameters_file_name\" : \"parameters.json\",\n",
    "    \"input_prompt_file_name\" : \"prompt.txt\",\n",
    "    \"hf_max_new_tokens\" : 400,\n",
    "    \"hf_load_in_4bit\" : True,\n",
    "    \"seed\" : 156,\n",
    "    \"example_template\" : \"data/example_templates/detect_sqli.txt\",  \n",
    "    \"examples_per_class\" : 3,\n",
    "    \"examples_file\" : \"datasets/sqli/train.csv\",\n",
    "    \"examples_payload_column\" : \"Payloads\",\n",
    "    \"examples_label_column\" : \"Class\",\n",
    "    \"example_positive_label\" : \"Malicious\",\n",
    "    \"example_negative_label\" : \"Benign\",\n",
    "    \"rag_template_file\" : \"data/rag_templates/basic_rag_suffix.txt\",\n",
    "    \"rag_source\" : sqli_filter_cheat_sheet,       \n",
    "    \"db_persist_path\" : \"data/db/chroma_web_sqli\",\n",
    "    \"chunk_size\" : 1500,\n",
    "    \"chunk_overlap\" : 500,\n",
    "    \n",
    "\n",
    "\n",
    "    \"data\" : \"datasets/sqli/val.csv\",\n",
    "    \"function_name\" : \"detect_sqli\",\n",
    "    \"summarize_results\" : True,\n",
    "    \"result_file_name\" : \"val_results.json\",\n",
    "    \"create_confusion_matrix\" : False,\n",
    "    \n",
    "}"
   ]
  },
  {
   "cell_type": "code",
   "execution_count": 8,
   "metadata": {},
   "outputs": [
    {
     "name": "stdout",
     "output_type": "stream",
     "text": [
      "python src/generation_test_pipeline.py --model_name gpt-4-0125-preview --temperature 0.0 --task data/tasks/detect_sqli_extended.txt --template data/templates/create_function_readable.yaml --prompt_parameters data/prompt_parameters/empty.yaml --generation_mode few_shot --experiments_folder generated_function_runs --experiments 5 --parameters_file_name parameters.json --input_prompt_file_name prompt.txt --hf_max_new_tokens 400 --hf_load_in_4bit True --seed 156 --example_template data/example_templates/detect_sqli.txt --examples_per_class 3 --examples_file datasets/sqli/train.csv --examples_payload_column Payloads --examples_label_column Class --example_positive_label Malicious --example_negative_label Benign --rag_template_file data/rag_templates/basic_rag_suffix.txt --rag_source https://websec.wordpress.com/2010/12/04/sqli-filter-evasion-cheat-sheet-mysql/ --db_persist_path data/db/chroma_web_sqli --chunk_size 1500 --chunk_overlap 500 --data datasets/sqli/val.csv --function_name detect_sqli --summarize_results True --result_file_name val_results.json --create_confusion_matrix False \n"
     ]
    }
   ],
   "source": [
    "command = f\"python {script} \"\n",
    "for k,v in params.items():\n",
    "    command += f\"--{k} {v} \"\n",
    "\n",
    "print(command)"
   ]
  }
 ],
 "metadata": {
  "kernelspec": {
   "display_name": ".venv",
   "language": "python",
   "name": "python3"
  },
  "language_info": {
   "codemirror_mode": {
    "name": "ipython",
    "version": 3
   },
   "file_extension": ".py",
   "mimetype": "text/x-python",
   "name": "python",
   "nbconvert_exporter": "python",
   "pygments_lexer": "ipython3",
   "version": "3.9.18"
  },
  "orig_nbformat": 4
 },
 "nbformat": 4,
 "nbformat_minor": 2
}
