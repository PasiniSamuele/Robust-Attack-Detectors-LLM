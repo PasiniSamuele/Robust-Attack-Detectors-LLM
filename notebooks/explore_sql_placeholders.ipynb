{
 "cells": [
  {
   "cell_type": "code",
   "execution_count": 61,
   "metadata": {},
   "outputs": [],
   "source": [
    "import re\n",
    "import random\n",
    "import pandas as pd\n",
    "import ast\n",
    "from dateutil.parser import parse\n"
   ]
  },
  {
   "cell_type": "code",
   "execution_count": 62,
   "metadata": {},
   "outputs": [],
   "source": [
    "def is_date(string, fuzzy=False):\n",
    "    \"\"\"\n",
    "    Return whether the string can be interpreted as a date.\n",
    "\n",
    "    :param string: str, string to check for date\n",
    "    :param fuzzy: bool, ignore unknown tokens in string if True\n",
    "    \"\"\"\n",
    "    try: \n",
    "        parse(string, fuzzy=fuzzy)\n",
    "        return True\n",
    "\n",
    "    except ValueError:\n",
    "        return False\n",
    "    \n",
    "def replace_substrings(s, placeholders):\n",
    "    s = s.replace(\"'\\\\'\", \"'/'\")\n",
    "    # Pattern to match substrings enclosed in single or double quotes\n",
    "    pattern = r\"\\\".*?\\\"|'.*?'\"\n",
    "    \n",
    "    # Function to replace matched substrings with a random placeholder\n",
    "    def replacer(match):\n",
    "        #check in match is a number\n",
    "        try:\n",
    "            if str(ast.literal_eval(match.group(0))).isdigit():\n",
    "                return f\"'{str(ast.literal_eval(match.group(0)))}'\"\n",
    "            #check if match is a date\n",
    "            elif is_date(match.group(0)):\n",
    "                print(match.group(0),f\"'{str(ast.literal_eval(match.group(0)))}'\")\n",
    "                return f\"'{str(ast.literal_eval(match.group(0)))}'\"\n",
    "            else:\n",
    "                return f\"'{random.choice(placeholders)}'\"\n",
    "        except:\n",
    "            return f\"'{random.choice(placeholders)}'\"\n",
    "    \n",
    "    # Use re.sub with the replacer function to replace matched substrings\n",
    "    result = re.sub(pattern, replacer, s)\n",
    "    \n",
    "    return result\n",
    "\n",
    "def wrap_row_with_quotes(row):\n",
    "    #if the row starts and ends with \"\n",
    "    row = row.strip()\n",
    "    if row[0] == '\"' and row[-1] == '\"':\n",
    "        row = row[1:-1]\n",
    "    if row[0] == \"'\" and row[-1] == \"'\":\n",
    "        row = row[1:-1]\n",
    "    if '\"' in row:\n",
    "        #substitute \"\" with '\n",
    "        row = row.replace('\"', \"'\")\n",
    "    return row"
   ]
  },
  {
   "cell_type": "code",
   "execution_count": 63,
   "metadata": {},
   "outputs": [],
   "source": [
    "placeholders = [\"alpha\", \"beta\", \"gamma\", \"delta\"]"
   ]
  },
  {
   "cell_type": "code",
   "execution_count": 64,
   "metadata": {},
   "outputs": [],
   "source": [
    "file = \"/workspaces/RAG_secure_code_generation/data/val_sqli.csv\""
   ]
  },
  {
   "cell_type": "code",
   "execution_count": 65,
   "metadata": {},
   "outputs": [],
   "source": [
    "df = pd.read_csv(file)"
   ]
  },
  {
   "cell_type": "code",
   "execution_count": 66,
   "metadata": {},
   "outputs": [
    {
     "data": {
      "text/plain": [
       "datetime.datetime(2015, 6, 30, 11, 16, 20)"
      ]
     },
     "execution_count": 66,
     "metadata": {},
     "output_type": "execute_result"
    }
   ],
   "source": [
    "parse('2015-06-30 11:16:20')"
   ]
  },
  {
   "cell_type": "code",
   "execution_count": 67,
   "metadata": {},
   "outputs": [],
   "source": [
    "#string = str(df.iloc[3345].Payloads)\n",
    "#string = \"INSERT into customerData VALUES ('0', '0/**//*!union*//**/all select 0-- ', 'Musterstr. 17, Musterstadt', 'muster@mail.com')\"\n",
    "#string = \"Select * From hotelList, roomData where roomData.rate >= '100' and roomData.rate <= '400' and hotelList.country = \\\"')/**/union/**/select/**/0#\\\" limit 1, 1\"\n",
    "string = \"\"\"UPDATE frk_member SET `username`='dennis', `password`=MD5('aaaa'), `salt`='aaaa', `autoLogin`=0, `timeZone`=0, `creationDate`='2015-06-30 11:16:20', `expirationDate`='0000-00-00 00:00:00', \n",
    "`lastLoginDate`='0000-00-00 00:00:00', `lastLoginAddress`='', `lastChangeDate`='2015-06-30', \n",
    "`visits`=0, `badAccess`=0, `level`=2, `enabled`=1, `email`='a@b.com', `title`='mr', `firstName`='dennis', \n",
    "`middleName`='appelt', `lastName`='blah', `city`='-8916%\\\"\\\" UNION ALL SELECT 6134,6134,6134,6134,6134,6134,6134,6134,6134-- ', \n",
    "`zipCode`='', `stateCode`='', `countryId`='LU', `phone`='', `mobile`='', `fax`='', `authorId`='1' WHERE memberId='2'\"\"\"\n",
    "\n"
   ]
  },
  {
   "cell_type": "code",
   "execution_count": 68,
   "metadata": {},
   "outputs": [
    {
     "data": {
      "text/plain": [
       "'UPDATE frk_member SET `username`=\\'dennis\\', `password`=MD5(\\'aaaa\\'), `salt`=\\'aaaa\\', `autoLogin`=0, `timeZone`=0, `creationDate`=\\'2015-06-30 11:16:20\\', `expirationDate`=\\'0000-00-00 00:00:00\\', \\n`lastLoginDate`=\\'0000-00-00 00:00:00\\', `lastLoginAddress`=\\'\\', `lastChangeDate`=\\'2015-06-30\\', \\n`visits`=0, `badAccess`=0, `level`=2, `enabled`=1, `email`=\\'a@b.com\\', `title`=\\'mr\\', `firstName`=\\'dennis\\', \\n`middleName`=\\'appelt\\', `lastName`=\\'blah\\', `city`=\\'-8916%\"\" UNION ALL SELECT 6134,6134,6134,6134,6134,6134,6134,6134,6134-- \\', \\n`zipCode`=\\'\\', `stateCode`=\\'\\', `countryId`=\\'LU\\', `phone`=\\'\\', `mobile`=\\'\\', `fax`=\\'\\', `authorId`=\\'1\\' WHERE memberId=\\'2\\''"
      ]
     },
     "execution_count": 68,
     "metadata": {},
     "output_type": "execute_result"
    }
   ],
   "source": [
    "string"
   ]
  },
  {
   "cell_type": "code",
   "execution_count": 69,
   "metadata": {},
   "outputs": [
    {
     "name": "stdout",
     "output_type": "stream",
     "text": [
      "'2015-06-30 11:16:20' '2015-06-30 11:16:20'\n",
      "'2015-06-30' '2015-06-30'\n"
     ]
    },
    {
     "data": {
      "text/plain": [
       "\"UPDATE frk_member SET `username`='gamma', `password`=MD5('delta'), `salt`='gamma', `autoLogin`=0, `timeZone`=0, `creationDate`='2015-06-30 11:16:20', `expirationDate`='gamma', \\n`lastLoginDate`='gamma', `lastLoginAddress`='alpha', `lastChangeDate`='2015-06-30', \\n`visits`=0, `badAccess`=0, `level`=2, `enabled`=1, `email`='alpha', `title`='delta', `firstName`='delta', \\n`middleName`='delta', `lastName`='delta', `city`='alpha', \\n`zipCode`='alpha', `stateCode`='alpha', `countryId`='gamma', `phone`='delta', `mobile`='gamma', `fax`='delta', `authorId`='1' WHERE memberId='2'\""
      ]
     },
     "execution_count": 69,
     "metadata": {},
     "output_type": "execute_result"
    }
   ],
   "source": [
    "replace_substrings(string, placeholders)"
   ]
  },
  {
   "cell_type": "markdown",
   "metadata": {},
   "source": []
  },
  {
   "cell_type": "code",
   "execution_count": 70,
   "metadata": {},
   "outputs": [
    {
     "data": {
      "text/plain": [
       "True"
      ]
     },
     "execution_count": 70,
     "metadata": {},
     "output_type": "execute_result"
    }
   ],
   "source": [
    "'100'.isdigit()"
   ]
  },
  {
   "cell_type": "code",
   "execution_count": null,
   "metadata": {},
   "outputs": [],
   "source": []
  }
 ],
 "metadata": {
  "kernelspec": {
   "display_name": ".venv",
   "language": "python",
   "name": "python3"
  },
  "language_info": {
   "codemirror_mode": {
    "name": "ipython",
    "version": 3
   },
   "file_extension": ".py",
   "mimetype": "text/x-python",
   "name": "python",
   "nbconvert_exporter": "python",
   "pygments_lexer": "ipython3",
   "version": "3.10.12"
  }
 },
 "nbformat": 4,
 "nbformat_minor": 2
}
