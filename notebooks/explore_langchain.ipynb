{
 "cells": [
  {
   "cell_type": "code",
   "execution_count": 1,
   "metadata": {},
   "outputs": [],
   "source": [
    "from langchain.chat_models import ChatOpenAI\n",
    "from langchain import HuggingFaceHub\n",
    "from langchain.prompts import (\n",
    "    ChatPromptTemplate,\n",
    ")\n",
    "from langchain_core.output_parsers import StrOutputParser"
   ]
  },
  {
   "cell_type": "code",
   "execution_count": 2,
   "metadata": {},
   "outputs": [],
   "source": [
    "from dotenv import dotenv_values\n",
    "dotenv_values = dotenv_values()\n",
    "hf_key = dotenv_values['HUGGINGFACEHUB_API_TOKEN']\n",
    "openai_key = dotenv_values['OPENAI_API_KEY']"
   ]
  },
  {
   "cell_type": "code",
   "execution_count": 3,
   "metadata": {},
   "outputs": [
    {
     "data": {
      "text/plain": [
       "'gpt-4-1106-preview'"
      ]
     },
     "execution_count": 3,
     "metadata": {},
     "output_type": "execute_result"
    }
   ],
   "source": [
    "model = ChatOpenAI(temperature=0, openai_api_key=openai_key, model=\"gpt-4-1106-preview\")\n",
    "model.model_name\n"
   ]
  },
  {
   "cell_type": "code",
   "execution_count": null,
   "metadata": {},
   "outputs": [],
   "source": []
  },
  {
   "cell_type": "code",
   "execution_count": 4,
   "metadata": {},
   "outputs": [],
   "source": [
    "template = \"\"\"The user will provide the initial part of the function (function name, parameters with types, return type and a comment describing the purpose of the function, with some optional example.\n",
    "You are a coding assistant that writes some python code to complete the user's function. Be sure that the code is syntactically correct and that it returns the correct type. The lenght of the code should be less than {max_lines} lines.\n",
    "\n",
    "Return only python code in Markdown format, e.g.:\n",
    "\n",
    "```python\n",
    "....\n",
    "```\"\"\""
   ]
  },
  {
   "cell_type": "code",
   "execution_count": 5,
   "metadata": {},
   "outputs": [],
   "source": [
    "prompt = ChatPromptTemplate.from_messages([(\"system\", template), (\"human\", \"{input}\")])\n"
   ]
  },
  {
   "cell_type": "code",
   "execution_count": 6,
   "metadata": {},
   "outputs": [
    {
     "data": {
      "text/plain": [
       "ChatPromptTemplate(input_variables=['input', 'max_lines'], messages=[SystemMessagePromptTemplate(prompt=PromptTemplate(input_variables=['max_lines'], template=\"The user will provide the initial part of the function (function name, parameters with types, return type and a comment describing the purpose of the function, with some optional example.\\nYou are a coding assistant that writes some python code to complete the user's function. Be sure that the code is syntactically correct and that it returns the correct type. The lenght of the code should be less than {max_lines} lines.\\n\\nReturn only python code in Markdown format, e.g.:\\n\\n```python\\n....\\n```\")), HumanMessagePromptTemplate(prompt=PromptTemplate(input_variables=['input'], template='{input}'))])"
      ]
     },
     "execution_count": 6,
     "metadata": {},
     "output_type": "execute_result"
    }
   ],
   "source": [
    "prompt"
   ]
  },
  {
   "cell_type": "code",
   "execution_count": 6,
   "metadata": {},
   "outputs": [],
   "source": [
    "def _sanitize_output(text: str):\n",
    "    _, after = text.split(\"```python\")\n",
    "    return after.split(\"```\")[0]"
   ]
  },
  {
   "cell_type": "code",
   "execution_count": 7,
   "metadata": {},
   "outputs": [],
   "source": [
    "chain = prompt | model | StrOutputParser() | _sanitize_output"
   ]
  },
  {
   "cell_type": "code",
   "execution_count": 8,
   "metadata": {},
   "outputs": [],
   "source": [
    "input = '''def detect_xss(http_get_request: str)->bool: \n",
    "\"\"\" Check if in the given http_get_request there is an XSS exploit, considering also the possible evasions that an attacker can perform.\"\"\" \n",
    "'''"
   ]
  },
  {
   "cell_type": "code",
   "execution_count": 9,
   "metadata": {},
   "outputs": [
    {
     "data": {
      "text/plain": [
       "ChatPromptTemplate(input_variables=['input', 'max_lines'], messages=[SystemMessagePromptTemplate(prompt=PromptTemplate(input_variables=['max_lines'], template=\"The user will provide the initial part of the function (function name, parameters with types, return type and a comment describing the purpose of the function, with some optional example.\\nYou are a coding assistant that writes some python code to complete the user's function. Be sure that the code is syntactically correct and that it returns the correct type. The lenght of the code should be less than {max_lines} lines.\\n\\nReturn only python code in Markdown format, e.g.:\\n\\n```python\\n....\\n```\")), HumanMessagePromptTemplate(prompt=PromptTemplate(input_variables=['input'], template='{input}'))])"
      ]
     },
     "execution_count": 9,
     "metadata": {},
     "output_type": "execute_result"
    }
   ],
   "source": [
    "prompt"
   ]
  },
  {
   "cell_type": "code",
   "execution_count": 10,
   "metadata": {},
   "outputs": [],
   "source": [
    "response = chain.invoke({\"max_lines\":99999,\"input\": input})"
   ]
  },
  {
   "cell_type": "code",
   "execution_count": 11,
   "metadata": {},
   "outputs": [
    {
     "name": "stdout",
     "output_type": "stream",
     "text": [
      "\n",
      "import re\n",
      "from html import unescape\n",
      "\n",
      "def detect_xss(http_get_request: str) -> bool:\n",
      "    \"\"\"\n",
      "    Check if in the given http_get_request there is an XSS exploit, considering also the possible evasions that an attacker can perform.\n",
      "    \n",
      "    Args:\n",
      "    http_get_request (str): The HTTP GET request string to be checked for XSS.\n",
      "\n",
      "    Returns:\n",
      "    bool: True if an XSS exploit is detected, False otherwise.\n",
      "    \"\"\"\n",
      "    \n",
      "    # Unescape the request to handle HTML entity evasion\n",
      "    http_get_request = unescape(http_get_request)\n",
      "    \n",
      "    # Patterns to detect XSS\n",
      "    # These patterns are basic and may not cover all possible XSS vectors\n",
      "    # It's recommended to use a comprehensive library for production systems\n",
      "    xss_patterns = [\n",
      "        r'<script.*?>.*?</script.*?>',  # Basic <script> tag injection\n",
      "        r'javascript:[^\"]*',            # JavaScript URI\n",
      "        r'(\"|\\')\\s*on\\w+\\s*=',          # Event handlers\n",
      "        r'(<[^>]+)\\s+style\\s*=\\s*[^>]*?expression\\([^>]*?\\)',  # CSS expression\n",
      "        r'(<[^>]+)\\s+style\\s*=\\s*[^>]*?url\\([^>]*?\\)',         # CSS URL\n",
      "        r'(<[^>]+)\\s+href\\s*=\\s*[^>]*?javascript:[^>]*?',      # Href JavaScript URI\n",
      "        r'(<[^>]+)\\s+src\\s*=\\s*[^>]*?javascript:[^>]*?',       # Src JavaScript URI\n",
      "        r'document\\.cookie',            # Accessing cookies\n",
      "        r'document\\.location',          # Manipulating document location\n",
      "        r'window\\.location',            # Manipulating window location\n",
      "        r'eval\\s*\\(',                   # eval function\n",
      "        r'alert\\s*\\(',                  # alert function\n",
      "        r'prompt\\s*\\(',                 # prompt function\n",
      "        r'confirm\\s*\\(',                # confirm function\n",
      "    ]\n",
      "    \n",
      "    # Check each pattern to see if it's in the request\n",
      "    for pattern in xss_patterns:\n",
      "        if re.search(pattern, http_get_request, re.IGNORECASE | re.DOTALL):\n",
      "            return True\n",
      "    \n",
      "    # No XSS detected\n",
      "    return False\n",
      "\n"
     ]
    }
   ],
   "source": [
    "print(response)"
   ]
  },
  {
   "cell_type": "code",
   "execution_count": null,
   "metadata": {},
   "outputs": [],
   "source": []
  }
 ],
 "metadata": {
  "kernelspec": {
   "display_name": ".venv",
   "language": "python",
   "name": "python3"
  },
  "language_info": {
   "codemirror_mode": {
    "name": "ipython",
    "version": 3
   },
   "file_extension": ".py",
   "mimetype": "text/x-python",
   "name": "python",
   "nbconvert_exporter": "python",
   "pygments_lexer": "ipython3",
   "version": "3.10.12"
  },
  "orig_nbformat": 4
 },
 "nbformat": 4,
 "nbformat_minor": 2
}
