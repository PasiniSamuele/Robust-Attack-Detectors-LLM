{
 "cells": [
  {
   "cell_type": "code",
   "execution_count": 1,
   "metadata": {},
   "outputs": [
    {
     "name": "stderr",
     "output_type": "stream",
     "text": [
      "/workspaces/RAG_secure_code_generation/.venv/lib/python3.10/site-packages/tqdm/auto.py:21: TqdmWarning: IProgress not found. Please update jupyter and ipywidgets. See https://ipywidgets.readthedocs.io/en/stable/user_install.html\n",
      "  from .autonotebook import tqdm as notebook_tqdm\n"
     ]
    }
   ],
   "source": [
    "import pandas as pd\n",
    "from langchain.llms.huggingface_pipeline import HuggingFacePipeline\n",
    "from transformers import AutoModelForCausalLM, AutoTokenizer, pipeline\n",
    "from dotenv import dotenv_values\n",
    "import sys\n",
    "sys.path.insert(0,'/workspaces/RAG_secure_code_generation/src')\n",
    "from utils.utils import load_yaml, init_argument_parser, sanitize_output, fill_default_parameters\n",
    "from langchain.prompts import (\n",
    "    ChatPromptTemplate, PromptTemplate\n",
    ")\n",
    "from utils.openai_utils import is_openai_model, build_chat_model\n",
    "from langchain.chat_models import ChatOpenAI\n",
    "from langchain_core.output_parsers import StrOutputParser\n",
    "import random\n",
    "import numpy as np\n",
    "from functools import partial\n",
    "from typing import List\n",
    "from langchain.embeddings import OpenAIEmbeddings\n",
    "from langchain.output_parsers import CommaSeparatedListOutputParser\n",
    "\n",
    "\n",
    "from langchain.text_splitter import RecursiveCharacterTextSplitter\n",
    "from langchain.vectorstores import Chroma\n",
    "from langchain.document_loaders.generic import GenericLoader\n",
    "from langchain.document_loaders import WebBaseLoader\n",
    "from utils.custom_grobid_parser import CustomGrobidParser\n",
    "from langchain.docstore.document import Document\n",
    "from langchain_core.embeddings import Embeddings\n",
    "import bs4\n",
    "from langchain_core.runnables import RunnablePassthrough\n",
    "from utils.rag_utils import build_scientific_papers_loader, build_documents_retriever, format_docs, build_web_page_loader\n",
    "from utils.openai_utils import is_openai_model, build_chat_model\n",
    "from langchain.prompts import FewShotPromptTemplate, PromptTemplate\n",
    "from langchain.output_parsers import PydanticOutputParser\n",
    "from langchain.prompts import (\n",
    "    SystemMessagePromptTemplate,\n",
    "    ChatPromptTemplate,\n",
    "    HumanMessagePromptTemplate,\n",
    ")\n",
    "from pydantic.v1 import Field ,BaseModel, validator"
   ]
  },
  {
   "cell_type": "code",
   "execution_count": 2,
   "metadata": {},
   "outputs": [],
   "source": [
    "seed = 156\n",
    "np.random.seed(seed)\n",
    "random.seed(seed)"
   ]
  },
  {
   "cell_type": "code",
   "execution_count": 3,
   "metadata": {},
   "outputs": [],
   "source": [
    "model_name = \"gpt-4-0125-preview\"\n"
   ]
  },
  {
   "cell_type": "code",
   "execution_count": 93,
   "metadata": {},
   "outputs": [],
   "source": [
    "template_file = \"../data/templates/create_synthetic_dataset.yaml\"\n",
    "task_file = \"../data/tasks/detect_xss_simple_prompt.txt\"\n",
    "#task_file = \"../data/tasks/is_even.txt\"\n",
    "\n",
    "parameters_file = \"../data/prompt_parameters/syn_xss_100.yaml\""
   ]
  },
  {
   "cell_type": "code",
   "execution_count": 94,
   "metadata": {},
   "outputs": [],
   "source": [
    "env = dotenv_values()"
   ]
  },
  {
   "cell_type": "code",
   "execution_count": 95,
   "metadata": {},
   "outputs": [],
   "source": [
    "openai_key = env['OPENAI_API_KEY']\n",
    "model = ChatOpenAI(temperature=0, openai_api_key=openai_key, model=model_name)\n",
    "embeddings = OpenAIEmbeddings(api_key = openai_key)"
   ]
  },
  {
   "cell_type": "code",
   "execution_count": 96,
   "metadata": {},
   "outputs": [],
   "source": [
    "template = load_yaml(template_file)\n",
    "    # load parameters\n",
    "prompt_parameters = load_yaml(parameters_file)\n",
    "\n",
    "#read txt containing the task\n",
    "with open(task_file) as f:\n",
    "    prompt_parameters[\"input\"] = f.read()\n",
    "prompt_parameters = fill_default_parameters(prompt_parameters, template[\"default_parameters\"])\n",
    "use_openai_api = is_openai_model(model_name)\n",
    "openai_key = env['OPENAI_API_KEY']\n",
    "model = ChatOpenAI(temperature=0, openai_api_key=openai_key, model=model_name)\n",
    "embeddings = OpenAIEmbeddings(api_key = openai_key)"
   ]
  },
  {
   "cell_type": "code",
   "execution_count": 97,
   "metadata": {},
   "outputs": [],
   "source": [
    "class XSS_row(BaseModel):\n",
    "    Payloads: str = Field(description=\"a string representing an http get request with payload\")\n",
    "    Class: str = Field(description=\"a string representing the class of the http get request, it is Malicious if the http get request contains an xss attack, otherwise it is Benign\")"
   ]
  },
  {
   "cell_type": "code",
   "execution_count": 115,
   "metadata": {},
   "outputs": [],
   "source": [
    "class XSS_dataset(BaseModel):\n",
    "    dataset: List[XSS_row]"
   ]
  },
  {
   "cell_type": "code",
   "execution_count": 98,
   "metadata": {},
   "outputs": [],
   "source": [
    "class Number(BaseModel):\n",
    "    Number: int = Field(description=\"an int to be tested if it is even or odd\")\n",
    "    Is_Even: bool = Field(description=\"a boolean that it is True if the number is even, otherwise it is False\")"
   ]
  },
  {
   "cell_type": "code",
   "execution_count": 99,
   "metadata": {},
   "outputs": [],
   "source": [
    "class Joke(BaseModel):\n",
    "    setup: str = Field(description=\"question to set up a joke\")\n",
    "    punchline: str = Field(description=\"answer to resolve the joke\")\n",
    "\n",
    "    # You can add custom validation logic easily with Pydantic.\n",
    "    @validator(\"setup\")\n",
    "    def question_ends_with_question_mark(cls, field):\n",
    "        if field[-1] != \"?\":\n",
    "            raise ValueError(\"Badly formed question!\")\n",
    "        return field"
   ]
  },
  {
   "cell_type": "code",
   "execution_count": 116,
   "metadata": {},
   "outputs": [
    {
     "data": {
      "text/plain": [
       "'The output should be formatted as a JSON instance that conforms to the JSON schema below.\\n\\nAs an example, for the schema {\"properties\": {\"foo\": {\"title\": \"Foo\", \"description\": \"a list of strings\", \"type\": \"array\", \"items\": {\"type\": \"string\"}}}, \"required\": [\"foo\"]}\\nthe object {\"foo\": [\"bar\", \"baz\"]} is a well-formatted instance of the schema. The object {\"properties\": {\"foo\": [\"bar\", \"baz\"]}} is not well-formatted.\\n\\nHere is the output schema:\\n```\\n{\"properties\": {\"dataset\": {\"title\": \"Dataset\", \"type\": \"array\", \"items\": {\"$ref\": \"#/definitions/XSS_row\"}}}, \"required\": [\"dataset\"], \"definitions\": {\"XSS_row\": {\"title\": \"XSS_row\", \"type\": \"object\", \"properties\": {\"Payloads\": {\"title\": \"Payloads\", \"description\": \"a string representing an http get request with payload\", \"type\": \"string\"}, \"Class\": {\"title\": \"Class\", \"description\": \"a string representing the class of the http get request, it is Malicious if the http get request contains an xss attack, otherwise it is Benign\", \"type\": \"string\"}}, \"required\": [\"Payloads\", \"Class\"]}}}\\n```'"
      ]
     },
     "execution_count": 116,
     "metadata": {},
     "output_type": "execute_result"
    }
   ],
   "source": [
    "output_parser = PydanticOutputParser(pydantic_object=XSS_dataset)\n",
    "format_instructions = output_parser.get_format_instructions()\n",
    "format_instructions"
   ]
  },
  {
   "cell_type": "code",
   "execution_count": 117,
   "metadata": {},
   "outputs": [
    {
     "data": {
      "text/plain": [
       "'The user will provide the initial part of the function (function name, parameters with types, return type and a comment describing the purpose of the function, with some optional example. \\nYou are a testing assistant that generates a dataset to test the function provided by the user.\\nThe dataset should contain {rows} Malicious examples and {rows} Benign examples. '"
      ]
     },
     "execution_count": 117,
     "metadata": {},
     "output_type": "execute_result"
    }
   ],
   "source": [
    "template['input']"
   ]
  },
  {
   "cell_type": "code",
   "execution_count": 118,
   "metadata": {},
   "outputs": [
    {
     "data": {
      "text/plain": [
       "'The user will provide the initial part of the function (function name, parameters with types, return type and a comment describing the purpose of the function, with some optional example. \\nYou are a testing assistant that generates a dataset to test the function provided by the user.\\nThe dataset should contain 5 even examples and 5 odd examples. \\n\\n{format_instructions}\\n\\nFunction:\\n{input}\\n'"
      ]
     },
     "execution_count": 118,
     "metadata": {},
     "output_type": "execute_result"
    }
   ],
   "source": [
    "even_input = \"\"\"The user will provide the initial part of the function (function name, parameters with types, return type and a comment describing the purpose of the function, with some optional example. \n",
    "You are a testing assistant that generates a dataset to test the function provided by the user.\n",
    "The dataset should contain 5 even examples and 5 odd examples. \n",
    "\\n{format_instructions}\\n\n",
    "Function:\n",
    "{input}\n",
    "\"\"\"\n",
    "even_input"
   ]
  },
  {
   "cell_type": "code",
   "execution_count": 119,
   "metadata": {},
   "outputs": [
    {
     "data": {
      "text/plain": [
       "'\\nprompt = PromptTemplate(\\n    template=even_input,\\n    input_variables=[\"input\", \"rows\"],\\n    partial_variables={\"format_instructions\": output_parser.get_format_instructions()},\\n)\\n'"
      ]
     },
     "execution_count": 119,
     "metadata": {},
     "output_type": "execute_result"
    }
   ],
   "source": [
    "\n",
    "prompt = ChatPromptTemplate(\n",
    "    messages=[\n",
    "        SystemMessagePromptTemplate.from_template(template['input']+ \"\\n{format_instructions}\"),\n",
    "        HumanMessagePromptTemplate.from_template(\"{input}\")  \n",
    "    ],\n",
    "    input_variables=[\"input\"],\n",
    "    partial_variables={\"format_instructions\": output_parser.get_format_instructions()}\n",
    ")\n",
    "\"\"\"\n",
    "prompt = PromptTemplate(\n",
    "    template=even_input,\n",
    "    input_variables=[\"input\", \"rows\"],\n",
    "    partial_variables={\"format_instructions\": output_parser.get_format_instructions()},\n",
    ")\n",
    "\"\"\""
   ]
  },
  {
   "cell_type": "code",
   "execution_count": 120,
   "metadata": {},
   "outputs": [],
   "source": [
    "input_variables=[\"input\"]"
   ]
  },
  {
   "cell_type": "code",
   "execution_count": 121,
   "metadata": {},
   "outputs": [],
   "source": [
    "chain = prompt | model \n",
    "\n"
   ]
  },
  {
   "cell_type": "code",
   "execution_count": 122,
   "metadata": {},
   "outputs": [
    {
     "name": "stdout",
     "output_type": "stream",
     "text": [
      "System: The user will provide the initial part of the function (function name, parameters with types, return type and a comment describing the purpose of the function, with some optional example. \n",
      "You are a testing assistant that generates a dataset to test the function provided by the user.\n",
      "The dataset should contain 5 Malicious examples and 5 Benign examples. \n",
      "The output should be formatted as a JSON instance that conforms to the JSON schema below.\n",
      "\n",
      "As an example, for the schema {\"properties\": {\"foo\": {\"title\": \"Foo\", \"description\": \"a list of strings\", \"type\": \"array\", \"items\": {\"type\": \"string\"}}}, \"required\": [\"foo\"]}\n",
      "the object {\"foo\": [\"bar\", \"baz\"]} is a well-formatted instance of the schema. The object {\"properties\": {\"foo\": [\"bar\", \"baz\"]}} is not well-formatted.\n",
      "\n",
      "Here is the output schema:\n",
      "```\n",
      "{\"properties\": {\"dataset\": {\"title\": \"Dataset\", \"type\": \"array\", \"items\": {\"$ref\": \"#/definitions/XSS_row\"}}}, \"required\": [\"dataset\"], \"definitions\": {\"XSS_row\": {\"title\": \"XSS_row\", \"type\": \"object\", \"properties\": {\"Payloads\": {\"title\": \"Payloads\", \"description\": \"a string representing an http get request with payload\", \"type\": \"string\"}, \"Class\": {\"title\": \"Class\", \"description\": \"a string representing the class of the http get request, it is Malicious if the http get request contains an xss attack, otherwise it is Benign\", \"type\": \"string\"}}, \"required\": [\"Payloads\", \"Class\"]}}}\n",
      "```\n",
      "Human: def detect_xss(http_get_request: str)->bool: \n",
      "\"\"\" Check if in the given http_get_request there is an XSS exploit, considering also the possible evasions that an attacker can perform.\"\"\"\n"
     ]
    }
   ],
   "source": [
    "print(prompt.format(input=prompt_parameters[\"input\"], rows = 5))\n"
   ]
  },
  {
   "cell_type": "code",
   "execution_count": 123,
   "metadata": {},
   "outputs": [],
   "source": [
    "response = chain.invoke(prompt_parameters)\n",
    "#response = chain.invoke({\"query\": \"Tell me a joke.\"})"
   ]
  },
  {
   "cell_type": "code",
   "execution_count": 124,
   "metadata": {},
   "outputs": [
    {
     "data": {
      "text/plain": [
       "AIMessage(content='```json\\n{\\n  \"dataset\": [\\n    {\\n      \"Payloads\": \"/search?q=<script>alert(\\'XSS\\')</script>\",\\n      \"Class\": \"Malicious\"\\n    },\\n    {\\n      \"Payloads\": \"/index.html?user=<img src=x onerror=alert(\\'XSS\\')>\",\\n      \"Class\": \"Malicious\"\\n    },\\n    {\\n      \"Payloads\": \"/contact?name=<body onload=alert(\\'XSS\\')>\",\\n      \"Class\": \"Malicious\"\\n    },\\n    {\\n      \"Payloads\": \"/login?username=admin&password=<svg/onload=alert(\\'XSS\\')>\",\\n      \"Class\": \"Malicious\"\\n    },\\n    {\\n      \"Payloads\": \"/about?comment=<iframe src=javascript:alert(\\'XSS\\')>\",\\n      \"Class\": \"Malicious\"\\n    },\\n    {\\n      \"Payloads\": \"/search?q=summer%20vacations\",\\n      \"Class\": \"Benign\"\\n    },\\n    {\\n      \"Payloads\": \"/index.html?user=JohnDoe\",\\n      \"Class\": \"Benign\"\\n    },\\n    {\\n      \"Payloads\": \"/contact?name=Jane+Doe&email=jane.doe@example.com\",\\n      \"Class\": \"Benign\"\\n    },\\n    {\\n      \"Payloads\": \"/login?username=user&password=pass123\",\\n      \"Class\": \"Benign\"\\n    },\\n    {\\n      \"Payloads\": \"/about?comment=Great+site%21+Loved+the+content.\",\\n      \"Class\": \"Benign\"\\n    }\\n  ]\\n}\\n```')"
      ]
     },
     "execution_count": 124,
     "metadata": {},
     "output_type": "execute_result"
    }
   ],
   "source": [
    "response"
   ]
  },
  {
   "cell_type": "code",
   "execution_count": 125,
   "metadata": {},
   "outputs": [
    {
     "data": {
      "text/plain": [
       "XSS_dataset(dataset=[XSS_row(Payloads=\"/search?q=<script>alert('XSS')</script>\", Class='Malicious'), XSS_row(Payloads=\"/index.html?user=<img src=x onerror=alert('XSS')>\", Class='Malicious'), XSS_row(Payloads=\"/contact?name=<body onload=alert('XSS')>\", Class='Malicious'), XSS_row(Payloads=\"/login?username=admin&password=<svg/onload=alert('XSS')>\", Class='Malicious'), XSS_row(Payloads=\"/about?comment=<iframe src=javascript:alert('XSS')>\", Class='Malicious'), XSS_row(Payloads='/search?q=summer%20vacations', Class='Benign'), XSS_row(Payloads='/index.html?user=JohnDoe', Class='Benign'), XSS_row(Payloads='/contact?name=Jane+Doe&email=jane.doe@example.com', Class='Benign'), XSS_row(Payloads='/login?username=user&password=pass123', Class='Benign'), XSS_row(Payloads='/about?comment=Great+site%21+Loved+the+content.', Class='Benign')])"
      ]
     },
     "execution_count": 125,
     "metadata": {},
     "output_type": "execute_result"
    }
   ],
   "source": [
    "output_parser.invoke(response)"
   ]
  },
  {
   "cell_type": "code",
   "execution_count": null,
   "metadata": {},
   "outputs": [],
   "source": []
  }
 ],
 "metadata": {
  "kernelspec": {
   "display_name": ".venv",
   "language": "python",
   "name": "python3"
  },
  "language_info": {
   "codemirror_mode": {
    "name": "ipython",
    "version": 3
   },
   "file_extension": ".py",
   "mimetype": "text/x-python",
   "name": "python",
   "nbconvert_exporter": "python",
   "pygments_lexer": "ipython3",
   "version": "3.10.12"
  }
 },
 "nbformat": 4,
 "nbformat_minor": 2
}
