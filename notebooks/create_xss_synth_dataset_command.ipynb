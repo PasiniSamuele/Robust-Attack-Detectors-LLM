{
 "cells": [
  {
   "cell_type": "code",
   "execution_count": 1,
   "metadata": {},
   "outputs": [],
   "source": [
    "script = \"src/generate_synthetic_dataset.py\""
   ]
  },
  {
   "cell_type": "code",
   "execution_count": 2,
   "metadata": {},
   "outputs": [],
   "source": [
    "url_filter_cheat_sheet = \"https://cheatsheetseries.owasp.org/cheatsheets/XSS_Filter_Evasion_Cheat_Sheet.html\"\n",
    "url_testing = \"https://owasp.org/www-project-web-security-testing-guide/latest/4-Web_Application_Security_Testing/07-Input_Validation_Testing/01-Testing_for_Reflected_Cross_Site_Scripting\"\n",
    "url_blog = \"https://www.invicti.com/blog/web-security/xss-filter-evasion/\""
   ]
  },
  {
   "cell_type": "code",
   "execution_count": 3,
   "metadata": {},
   "outputs": [],
   "source": [
    "params = {\n",
    "    \"model_name\" : \"gpt-3.5-turbo-0125\", \n",
    "    \"temperature\" : 1.0, \n",
    "    \"task\" : \"data/tasks/detect_xss_simple_prompt.txt\", \n",
    "    \"template\" : \"data/templates/create_synthetic_dataset.yaml\",\n",
    "    \"prompt_parameters\" : \"data/prompt_parameters/medium_dataset.yaml\", \n",
    "    \"generation_mode\" : \"few_shot\",\n",
    "    \"experiments_folder\" : \"synthetic_datasets\",\n",
    "    \"experiments\" : 2,\n",
    "    \"parameters_file_name\" : \"parameters.json\",\n",
    "    \"input_prompt_file_name\" : \"prompt.txt\",\n",
    "    \"hf_max_new_tokens\" : 400,\n",
    "    \"hf_load_in_4bit\" : True,\n",
    "    \"seed\" : 156,\n",
    "    \"example_template\" : \"data/example_templates/detect_xss_simple_prompt.txt\",\n",
    "    \"examples_per_class\" : 3,\n",
    "    \"examples_file\" : \"datasets/xss/train.csv\",\n",
    "    \"examples_payload_column\" : \"Payloads\",\n",
    "    \"examples_label_column\" : \"Class\",\n",
    "    \"example_positive_label\" : \"Malicious\",\n",
    "    \"example_negative_label\" : \"Benign\",\n",
    "    \"rag_template_file\" : \"data/rag_templates/dataset_rag_suffix.txt\",\n",
    "    \"rag_source\" : url_filter_cheat_sheet,      \n",
    "    \"db_persist_path\" : \"data/db/chroma_web\",\n",
    "    \"chunk_size\" : 1500,\n",
    "    \"chunk_overlap\" : 500,\n",
    "    \"timeout\" : 9000\n",
    "\n",
    "    \n",
    "}"
   ]
  },
  {
   "cell_type": "code",
   "execution_count": 4,
   "metadata": {},
   "outputs": [
    {
     "name": "stdout",
     "output_type": "stream",
     "text": [
      "python src/generate_synthetic_dataset.py --model_name gpt-3.5-turbo-0125 --temperature 1.0 --task data/tasks/detect_xss_simple_prompt.txt --template data/templates/create_synthetic_dataset.yaml --prompt_parameters data/prompt_parameters/medium_dataset.yaml --generation_mode few_shot --experiments_folder synthetic_datasets --experiments 2 --parameters_file_name parameters.json --input_prompt_file_name prompt.txt --hf_max_new_tokens 400 --hf_load_in_4bit True --seed 156 --example_template data/example_templates/detect_xss_simple_prompt.txt --examples_per_class 3 --examples_file datasets/xss/train.csv --examples_payload_column Payloads --examples_label_column Class --example_positive_label Malicious --example_negative_label Benign --rag_template_file data/rag_templates/dataset_rag_suffix.txt --rag_source https://cheatsheetseries.owasp.org/cheatsheets/XSS_Filter_Evasion_Cheat_Sheet.html --db_persist_path data/db/chroma_web --chunk_size 1500 --chunk_overlap 500 --timeout 9000 \n"
     ]
    }
   ],
   "source": [
    "command = f\"python {script} \"\n",
    "for k,v in params.items():\n",
    "    command += f\"--{k} {v} \"\n",
    "\n",
    "print(command)"
   ]
  }
 ],
 "metadata": {
  "kernelspec": {
   "display_name": ".venv",
   "language": "python",
   "name": "python3"
  },
  "language_info": {
   "codemirror_mode": {
    "name": "ipython",
    "version": 3
   },
   "file_extension": ".py",
   "mimetype": "text/x-python",
   "name": "python",
   "nbconvert_exporter": "python",
   "pygments_lexer": "ipython3",
   "version": "3.9.18"
  },
  "orig_nbformat": 4
 },
 "nbformat": 4,
 "nbformat_minor": 2
}
