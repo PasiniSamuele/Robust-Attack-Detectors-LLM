{
 "cells": [
  {
   "cell_type": "code",
   "execution_count": 41,
   "metadata": {},
   "outputs": [
    {
     "data": {
      "text/plain": [
       "\"\\n    parser.add_argument('--model_name', type=str, default='gpt-3.5-turbo', help='name of the model')\\n    parser.add_argument('--temperature', type=float, default=1.0, help='model temperature')\\n\\n    #task parameters\\n    parser.add_argument('--task', type=str, default='data/tasks/detect_xss_simple_prompt.txt', help='input task')\\n    parser.add_argument('--template', type=str, default='data/templates/complete_function.yaml', help='template for the prompt')\\n    parser.add_argument('--prompt_parameters', type=str, default='data/prompt_parameters/empty.yaml', help='parameters to format the prompt template')\\n    parser.add_argument('--generation_mode', type=str, default='one_shot', help='Generation mode: one_shot, few_shot, rag or react')\\n\\n    #output\\n    parser.add_argument('--experiments_folder', type=str, default='experiments', help='experiments folder')\\n    parser.add_argument('--experiments', type=int, default=25, help= 'number of experiments to run')\\n    parser.add_argument('--parameters_file_name', type=str, default='parameters.json', help='name of the parameters file')\\n    parser.add_argument('--input_prompt_file_name', type=str, default='prompt.txt', help='name of the input prompt file')\\n\\n    #hf paramerters \\n    parser.add_argument('--hf_max_new_tokens', type=int, default=400, help='max new tokens for hf model')\\n    parser.add_argument('--hf_load_in_4bit', type=bool, default=True, help='load in 4 bit for hf model (qlora quantization)')\\n\\n    #reproducibility\\n    parser.add_argument('--seed', type=int, default=None, help='seed for reproducibility')\\n\\n    #few shot parameters\\n    parser.add_argument('--example_template', type=str, default='data/example_templates/detect_xss_simple', help='template for the examples')\\n    parser.add_argument('--examples_per_class', type=int, default=2, help='number of examples for each class')\\n    parser.add_argument('--examples_file', type=str, default='data/train.csv', help='file containing the examples')\\n    parser.add_argument('--examples_payload_column', type=str, default='Payloads', help='column containing the payloads')\\n    parser.add_argument('--examples_label_column', type=str, default='Class', help='column containing the labels')\\n    parser.add_argument('--example_positive_label', type=str, default='Malicious', help='Label for positive examples')\\n    parser.add_argument('--example_negative_label', type=str, default='Benign', help='Label for negative examples')\\n\\n    #rag parameters\\n    parser.add_argument('--rag_template_file', type=str, default='data/rag_templates/basic_rag_suffix.txt', help='template for the prompt with RAG')\\n    parser.add_argument('--rag_source', type=str, default='data/papers', help='folder with papers or url of a webpage')\\n    parser.add_argument('--db_persist_path', type=str, default='data/db/chroma', help='path to the db')\\n    parser.add_argument('--chunk_size', type=int, default=1000, help='chunk size')\\n    parser.add_argument('--chunk_overlap', type=int, default=200, help='chunk overlap')\\n    parser.add_argument('--timeout', type=int, default=9000, help='timeout for the experiments in seconds')\\n\\n\""
      ]
     },
     "execution_count": 41,
     "metadata": {},
     "output_type": "execute_result"
    }
   ],
   "source": [
    "# generation parameters\n",
    "'''\n",
    "    parser.add_argument('--model_name', type=str, default='gpt-3.5-turbo', help='name of the model')\n",
    "    parser.add_argument('--temperature', type=float, default=1.0, help='model temperature')\n",
    "\n",
    "    #task parameters\n",
    "    parser.add_argument('--task', type=str, default='data/tasks/detect_xss_simple_prompt.txt', help='input task')\n",
    "    parser.add_argument('--template', type=str, default='data/templates/complete_function.yaml', help='template for the prompt')\n",
    "    parser.add_argument('--prompt_parameters', type=str, default='data/prompt_parameters/empty.yaml', help='parameters to format the prompt template')\n",
    "    parser.add_argument('--generation_mode', type=str, default='one_shot', help='Generation mode: one_shot, few_shot, rag or react')\n",
    "\n",
    "    #output\n",
    "    parser.add_argument('--experiments_folder', type=str, default='experiments', help='experiments folder')\n",
    "    parser.add_argument('--experiments', type=int, default=25, help= 'number of experiments to run')\n",
    "    parser.add_argument('--parameters_file_name', type=str, default='parameters.json', help='name of the parameters file')\n",
    "    parser.add_argument('--input_prompt_file_name', type=str, default='prompt.txt', help='name of the input prompt file')\n",
    "\n",
    "    #hf paramerters \n",
    "    parser.add_argument('--hf_max_new_tokens', type=int, default=400, help='max new tokens for hf model')\n",
    "    parser.add_argument('--hf_load_in_4bit', type=bool, default=True, help='load in 4 bit for hf model (qlora quantization)')\n",
    "\n",
    "    #reproducibility\n",
    "    parser.add_argument('--seed', type=int, default=None, help='seed for reproducibility')\n",
    "\n",
    "    #few shot parameters\n",
    "    parser.add_argument('--example_template', type=str, default='data/example_templates/detect_xss_simple', help='template for the examples')\n",
    "    parser.add_argument('--examples_per_class', type=int, default=2, help='number of examples for each class')\n",
    "    parser.add_argument('--examples_file', type=str, default='data/train.csv', help='file containing the examples')\n",
    "    parser.add_argument('--examples_payload_column', type=str, default='Payloads', help='column containing the payloads')\n",
    "    parser.add_argument('--examples_label_column', type=str, default='Class', help='column containing the labels')\n",
    "    parser.add_argument('--example_positive_label', type=str, default='Malicious', help='Label for positive examples')\n",
    "    parser.add_argument('--example_negative_label', type=str, default='Benign', help='Label for negative examples')\n",
    "\n",
    "    #rag parameters\n",
    "    parser.add_argument('--rag_template_file', type=str, default='data/rag_templates/basic_rag_suffix.txt', help='template for the prompt with RAG')\n",
    "    parser.add_argument('--rag_source', type=str, default='data/papers', help='folder with papers or url of a webpage')\n",
    "    parser.add_argument('--db_persist_path', type=str, default='data/db/chroma', help='path to the db')\n",
    "    parser.add_argument('--chunk_size', type=int, default=1000, help='chunk size')\n",
    "    parser.add_argument('--chunk_overlap', type=int, default=200, help='chunk overlap')\n",
    "    parser.add_argument('--timeout', type=int, default=9000, help='timeout for the experiments in seconds')\n",
    "\n",
    "'''"
   ]
  },
  {
   "cell_type": "code",
   "execution_count": 42,
   "metadata": {},
   "outputs": [],
   "source": [
    "script = \"src/generate_synthetic_dataset.py\""
   ]
  },
  {
   "cell_type": "code",
   "execution_count": 43,
   "metadata": {},
   "outputs": [],
   "source": [
    "url_filter_cheat_sheet = \"https://cheatsheetseries.owasp.org/cheatsheets/XSS_Filter_Evasion_Cheat_Sheet.html\"\n",
    "url_testing = \"https://owasp.org/www-project-web-security-testing-guide/latest/4-Web_Application_Security_Testing/07-Input_Validation_Testing/01-Testing_for_Reflected_Cross_Site_Scripting\"\n",
    "url_blog = \"https://www.invicti.com/blog/web-security/xss-filter-evasion/\""
   ]
  },
  {
   "cell_type": "code",
   "execution_count": 44,
   "metadata": {},
   "outputs": [],
   "source": [
    "params = {\n",
    "    \"model_name\" : \"gpt-3.5-turbo-0125\", # gpt-4-1106-preview  gpt-3.5-turbo-0125   gpt-3.5-turbo-0613  gpt-4-0125-preview \n",
    "    \"temperature\" : 0.0, \n",
    "    \"task\" : \"data/tasks/detect_xss_simple_prompt.txt\", #detect_xss_simple_prompt\n",
    "    \"template\" : \"data/templates/create_synthetic_dataset.yaml\",\n",
    "    \"prompt_parameters\" : \"data/prompt_parameters/medium_dataset.yaml\", #small, medium or large\n",
    "    \"generation_mode\" : \"rag_few_shot\",\n",
    "    \"experiments_folder\" : \"data/synthetic_datasets\",\n",
    "    \"experiments\" : 10,\n",
    "    \"parameters_file_name\" : \"parameters.json\",\n",
    "    \"input_prompt_file_name\" : \"prompt.txt\",\n",
    "    \"hf_max_new_tokens\" : 400,\n",
    "    \"hf_load_in_4bit\" : True,\n",
    "    \"seed\" : 156,\n",
    "    \"example_template\" : \"data/example_templates/detect_xss_simple_prompt.txt\",\n",
    "    \"examples_per_class\" : 1,\n",
    "    \"examples_file\" : \"data/train.csv\",\n",
    "    \"examples_payload_column\" : \"Payloads\",\n",
    "    \"examples_label_column\" : \"Class\",\n",
    "    \"example_positive_label\" : \"Malicious\",\n",
    "    \"example_negative_label\" : \"Benign\",\n",
    "    \"rag_template_file\" : \"data/rag_templates/dataset_rag_suffix.txt\",\n",
    "    \"rag_source\" : url_filter_cheat_sheet,         #\"data/papers\",\n",
    "    \"db_persist_path\" : \"data/db/chroma_web\",\n",
    "    \"chunk_size\" : 1500,\n",
    "    \"chunk_overlap\" : 500,\n",
    "    \"subset\" : [10,20,30,40],\n",
    "    \"timeout\" : 9000\n",
    "\n",
    "    \n",
    "}"
   ]
  },
  {
   "cell_type": "code",
   "execution_count": 45,
   "metadata": {},
   "outputs": [
    {
     "name": "stdout",
     "output_type": "stream",
     "text": [
      "python src/generate_synthetic_dataset.py --model_name gpt-3.5-turbo-0125 --temperature 0.0 --task data/tasks/detect_xss_simple_prompt.txt --template data/templates/create_synthetic_dataset.yaml --prompt_parameters data/prompt_parameters/medium_dataset.yaml --generation_mode rag_few_shot --experiments_folder data/synthetic_datasets --experiments 10 --parameters_file_name parameters.json --input_prompt_file_name prompt.txt --hf_max_new_tokens 400 --hf_load_in_4bit True --seed 156 --example_template data/example_templates/detect_xss_simple_prompt.txt --examples_per_class 1 --examples_file data/train.csv --examples_payload_column Payloads --examples_label_column Class --example_positive_label Malicious --example_negative_label Benign --rag_template_file data/rag_templates/dataset_rag_suffix.txt --rag_source https://cheatsheetseries.owasp.org/cheatsheets/XSS_Filter_Evasion_Cheat_Sheet.html --db_persist_path data/db/chroma_web --chunk_size 1500 --chunk_overlap 500 --subset 10 --subset 20 --subset 30 --subset 40 --timeout 9000 \n"
     ]
    }
   ],
   "source": [
    "command = f\"python {script} \"\n",
    "for k,v in params.items():\n",
    "    if v is not None and k != \"top_n\" and k != \"subset\":\n",
    "        command += f\"--{k} {v} \"\n",
    "    elif k == \"top_n\":\n",
    "        for n in v:\n",
    "            command += f\"--{k} {n} \"\n",
    "    elif k == \"subset\":\n",
    "        for n in v:\n",
    "            command += f\"--{k} {n} \"\n",
    "\n",
    "print(command)"
   ]
  }
 ],
 "metadata": {
  "kernelspec": {
   "display_name": ".venv",
   "language": "python",
   "name": "python3"
  },
  "language_info": {
   "codemirror_mode": {
    "name": "ipython",
    "version": 3
   },
   "file_extension": ".py",
   "mimetype": "text/x-python",
   "name": "python",
   "nbconvert_exporter": "python",
   "pygments_lexer": "ipython3",
   "version": "3.10.12"
  },
  "orig_nbformat": 4
 },
 "nbformat": 4,
 "nbformat_minor": 2
}
