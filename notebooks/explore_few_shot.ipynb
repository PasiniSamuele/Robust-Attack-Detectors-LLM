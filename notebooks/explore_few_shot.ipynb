{
 "cells": [
  {
   "cell_type": "code",
   "execution_count": 426,
   "metadata": {},
   "outputs": [],
   "source": [
    "import pandas as pd\n",
    "from langchain.llms.huggingface_pipeline import HuggingFacePipeline\n",
    "from transformers import AutoModelForCausalLM, AutoTokenizer, pipeline\n",
    "from dotenv import dotenv_values\n",
    "import sys\n",
    "sys.path.insert(0,'/workspaces/RAG_secure_code_generation/src')\n",
    "from utils.utils import load_yaml, init_argument_parser, sanitize_output, fill_default_parameters\n",
    "from langchain.prompts import (\n",
    "    ChatPromptTemplate, PromptTemplate\n",
    ")\n",
    "from utils.openai_utils import is_openai_model, build_chat_model\n",
    "from langchain.chat_models import ChatOpenAI\n",
    "from langchain_core.output_parsers import StrOutputParser\n",
    "import random\n",
    "import numpy as np\n",
    "from functools import partial\n",
    "from typing import List\n"
   ]
  },
  {
   "cell_type": "code",
   "execution_count": 427,
   "metadata": {},
   "outputs": [],
   "source": [
    "seed = 156\n",
    "np.random.seed(seed)\n",
    "random.seed(seed)"
   ]
  },
  {
   "cell_type": "code",
   "execution_count": 428,
   "metadata": {},
   "outputs": [],
   "source": [
    "env = dotenv_values()\n"
   ]
  },
  {
   "cell_type": "code",
   "execution_count": 429,
   "metadata": {},
   "outputs": [],
   "source": [
    "samples_to_extract = 4"
   ]
  },
  {
   "cell_type": "code",
   "execution_count": 430,
   "metadata": {},
   "outputs": [],
   "source": [
    "template_file = \"../data/templates/complete_function_readable.yaml\"\n",
    "template_examples_file = \"../data/example_templates/detect_xss_simple_prompt.txt\"\n",
    "task_file = \"../data/tasks/detect_xss_simple_prompt.txt\"\n",
    "parameters_file = \"../data/prompt_parameters/empty.yaml\"\n",
    "train_set_file = \"../data/train.csv\"\n",
    "model_name = \"gpt-3.5-turbo-0613\""
   ]
  },
  {
   "cell_type": "code",
   "execution_count": 431,
   "metadata": {},
   "outputs": [],
   "source": [
    "template = load_yaml(template_file)\n",
    "    # load parameters\n",
    "prompt_parameters = load_yaml(parameters_file)\n",
    "\n",
    "#read txt containing the task\n",
    "with open(task_file) as f:\n",
    "    prompt_parameters[\"input\"] = f.read()\n",
    "with open(template_examples_file) as f:\n",
    "    example_template = f.read()\n",
    "prompt_parameters = fill_default_parameters(prompt_parameters, template[\"default_parameters\"])\n",
    "use_openai_api = is_openai_model(model_name)\n",
    "openai_key = env['OPENAI_API_KEY']\n",
    "model = ChatOpenAI(temperature=1, openai_api_key=openai_key, model=model_name)"
   ]
  },
  {
   "cell_type": "code",
   "execution_count": 432,
   "metadata": {},
   "outputs": [
    {
     "name": "stdout",
     "output_type": "stream",
     "text": [
      "System: The user will provide the initial part of the function (function name, parameters with types, return type and a comment describing the purpose of the function, with some optional example. \n",
      "You are a coding assistant that writes some python code to complete the user's function. Be sure that the code is syntactically correct and that it returns the correct type. \n",
      "The lenght of the code should short, readable, and without redundant checks on the paylaod. \n",
      "Return only python code in Markdown format, e.g.:\n",
      "```python\n",
      "....\n",
      "```\n",
      "Human: def detect_xss(http_get_request: str)->bool: \n",
      "\"\"\" Check if in the given http_get_request there is an XSS exploit, considering also the possible evasions that an attacker can perform.\"\"\" \n"
     ]
    }
   ],
   "source": [
    "prompt = ChatPromptTemplate.from_messages([(\"system\", template[\"input\"]), (\"human\", \"{input}\")])\n",
    "print(prompt.format(**prompt_parameters))\n"
   ]
  },
  {
   "cell_type": "code",
   "execution_count": 433,
   "metadata": {},
   "outputs": [],
   "source": [
    "trainset = pd.read_csv(train_set_file)"
   ]
  },
  {
   "cell_type": "code",
   "execution_count": 434,
   "metadata": {},
   "outputs": [],
   "source": [
    "def sample_examples(df:pd.DataFrame,\n",
    "                    samples_per_class:int = 2, \n",
    "                    label_column:str = \"Class\",\n",
    "                    shuffle = False,\n",
    "                    format_function = lambda x: x):\n",
    "    #extract different labels using label_column\n",
    "    labels = df[label_column].unique()\n",
    "    examples = pd.DataFrame()\n",
    "    for l in labels:\n",
    "        #extract samples_per_class examples for each label\n",
    "        sample = df[df[label_column] == l].sample(samples_per_class)\n",
    "        #format the examples\n",
    "\n",
    "        #add the examples to the examples dataframe\n",
    "        print(sample)\n",
    "        examples = pd.concat([examples, sample], ignore_index=True)\n",
    "    if shuffle:\n",
    "        examples = examples.sample(frac=1)\n",
    "    \n",
    "    #format examples\n",
    "    examples = format_function(examples)\n",
    "\n",
    "    return examples"
   ]
  },
  {
   "cell_type": "code",
   "execution_count": 435,
   "metadata": {},
   "outputs": [],
   "source": [
    "def humaneval_style_format(examples:pd.Series,\n",
    "                    template:str,\n",
    "                    label_column:str = \"Class\",\n",
    "                    payload_column:str = \"Payloads\",\n",
    "                    mappig:dict = {\"Benign\": False, \"Malicious\": True})-> List[str]:\n",
    "    formatted_examples = []\n",
    "    for _ , row in examples.iterrows():\n",
    "        formatted_examples.append(template.format(input = row[payload_column], output = mappig[row[label_column]]))\n",
    "    return formatted_examples\n",
    "   "
   ]
  },
  {
   "cell_type": "code",
   "execution_count": 436,
   "metadata": {},
   "outputs": [
    {
     "name": "stdout",
     "output_type": "stream",
     "text": [
      "                                               Payloads      Class\n",
      "2877  https://expand.snowballeffect.net:8442/plesk/u...  Malicious\n",
      "6306  http://www.aromasin.com/content/news.jsp?setsh...  Malicious\n",
      "3748  http://www.talonline.ca/searchalberta/search.j...  Malicious\n",
      "6108  http://rules.nyse.com/nysetools/tocchapter.asp...  Malicious\n",
      "                                                Payloads   Class\n",
      "7762   http://www.wikihow.com/purchase-drafting-suppl...  Benign\n",
      "12707  http://localhost:8080/tienda1/miembros/editar....  Benign\n",
      "11988  http://localhost:8080/tienda1/publico/pagar.js...  Benign\n",
      "9888   http://www.wikihow.com/preserve-your-paint-wit...  Benign\n"
     ]
    },
    {
     "data": {
      "text/html": [
       "<div>\n",
       "<style scoped>\n",
       "    .dataframe tbody tr th:only-of-type {\n",
       "        vertical-align: middle;\n",
       "    }\n",
       "\n",
       "    .dataframe tbody tr th {\n",
       "        vertical-align: top;\n",
       "    }\n",
       "\n",
       "    .dataframe thead th {\n",
       "        text-align: right;\n",
       "    }\n",
       "</style>\n",
       "<table border=\"1\" class=\"dataframe\">\n",
       "  <thead>\n",
       "    <tr style=\"text-align: right;\">\n",
       "      <th></th>\n",
       "      <th>Payloads</th>\n",
       "      <th>Class</th>\n",
       "    </tr>\n",
       "  </thead>\n",
       "  <tbody>\n",
       "    <tr>\n",
       "      <th>3</th>\n",
       "      <td>http://rules.nyse.com/nysetools/tocchapter.asp...</td>\n",
       "      <td>Malicious</td>\n",
       "    </tr>\n",
       "    <tr>\n",
       "      <th>0</th>\n",
       "      <td>https://expand.snowballeffect.net:8442/plesk/u...</td>\n",
       "      <td>Malicious</td>\n",
       "    </tr>\n",
       "    <tr>\n",
       "      <th>4</th>\n",
       "      <td>http://www.wikihow.com/purchase-drafting-suppl...</td>\n",
       "      <td>Benign</td>\n",
       "    </tr>\n",
       "    <tr>\n",
       "      <th>2</th>\n",
       "      <td>http://www.talonline.ca/searchalberta/search.j...</td>\n",
       "      <td>Malicious</td>\n",
       "    </tr>\n",
       "    <tr>\n",
       "      <th>6</th>\n",
       "      <td>http://localhost:8080/tienda1/publico/pagar.js...</td>\n",
       "      <td>Benign</td>\n",
       "    </tr>\n",
       "    <tr>\n",
       "      <th>5</th>\n",
       "      <td>http://localhost:8080/tienda1/miembros/editar....</td>\n",
       "      <td>Benign</td>\n",
       "    </tr>\n",
       "    <tr>\n",
       "      <th>7</th>\n",
       "      <td>http://www.wikihow.com/preserve-your-paint-wit...</td>\n",
       "      <td>Benign</td>\n",
       "    </tr>\n",
       "    <tr>\n",
       "      <th>1</th>\n",
       "      <td>http://www.aromasin.com/content/news.jsp?setsh...</td>\n",
       "      <td>Malicious</td>\n",
       "    </tr>\n",
       "  </tbody>\n",
       "</table>\n",
       "</div>"
      ],
      "text/plain": [
       "                                            Payloads      Class\n",
       "3  http://rules.nyse.com/nysetools/tocchapter.asp...  Malicious\n",
       "0  https://expand.snowballeffect.net:8442/plesk/u...  Malicious\n",
       "4  http://www.wikihow.com/purchase-drafting-suppl...     Benign\n",
       "2  http://www.talonline.ca/searchalberta/search.j...  Malicious\n",
       "6  http://localhost:8080/tienda1/publico/pagar.js...     Benign\n",
       "5  http://localhost:8080/tienda1/miembros/editar....     Benign\n",
       "7  http://www.wikihow.com/preserve-your-paint-wit...     Benign\n",
       "1  http://www.aromasin.com/content/news.jsp?setsh...  Malicious"
      ]
     },
     "execution_count": 436,
     "metadata": {},
     "output_type": "execute_result"
    }
   ],
   "source": [
    "examples = sample_examples(trainset, samples_per_class=samples_to_extract, shuffle=True)\n",
    "examples"
   ]
  },
  {
   "cell_type": "code",
   "execution_count": 437,
   "metadata": {},
   "outputs": [
    {
     "name": "stdout",
     "output_type": "stream",
     "text": [
      "                                               Payloads      Class\n",
      "3798  http://www.theatronhometheater.com/index.php?p...  Malicious\n",
      "1744  http://www.artcreationselite.com/login.asp?fol...  Malicious\n",
      "1084  http://www2.camarapoa.rs.gov.br/default.php?p_...  Malicious\n",
      "1781  http://www.devrekanadolulisesi.k12.tr/for/logi...  Malicious\n",
      "                                                Payloads   Class\n",
      "7366   http://localhost:8080/tienda1/publico/pagar.js...  Benign\n",
      "13519  http://www.wikihow.com/make-a-dessert-taco&t=1...  Benign\n",
      "11375  http://www.wikihow.com/make-a-peep-cake&t=1396...  Benign\n",
      "9172   http://www.wikihow.com/look-korean/ulzzang/asi...  Benign\n"
     ]
    },
    {
     "data": {
      "text/plain": [
       "['>>> detect_xss(http://localhost:8080/tienda1/publico/pagar.jsp?modo=insertar&precio=1611&b1=pasar+por+caja)\\nFalse\\n',\n",
       " '>>> detect_xss(http://www.devrekanadolulisesi.k12.tr/for/login.asp?folder=&quot;&gt;&lt;script&gt;alert(document.cookie)&lt;/script&gt;<br>&gt;&lt;marquee&gt;&lt;h1&gt;by+narcoticxs&lt;/h1&gt;&lt;/marquee&gt;)\\nTrue\\n',\n",
       " \">>> detect_xss(http://www2.camarapoa.rs.gov.br/default.php?p_secao=%22%3e'%3e%3cscript%20src=http://vuln.xssed.net/<br>thirdparty/scripts/python5.js%3e%3c/script%3e)\\nTrue\\n\",\n",
       " '>>> detect_xss(http://www.theatronhometheater.com/index.php?page=&quot;&gt;&lt;/iframe&gt;&lt;script&gt;alert(1);&lt;/script&gt;&amp;pagetitle=&lt;/<br>title&gt;&lt;script&gt;alert(1);&lt;/script&gt;)\\nTrue\\n',\n",
       " '>>> detect_xss(http://www.wikihow.com/make-a-peep-cake&t=1396546410095&n=1703252&k=mainentity)\\nFalse\\n',\n",
       " '>>> detect_xss(http://www.artcreationselite.com/login.asp?folder=&quot;&gt;&lt;script&gt;alert(document.cookie)&lt;/script&gt;&gt;&lt;marquee<br>&gt;&lt;h1&gt;by+narcoticxs&lt;/h1&gt;&lt;/marquee&gt;)\\nTrue\\n',\n",
       " '>>> detect_xss(http://www.wikihow.com/make-a-dessert-taco&t=1396515704711&n=208785&k=mainentity)\\nFalse\\n',\n",
       " '>>> detect_xss(http://www.wikihow.com/look-korean/ulzzang/asian-with-dolly-eyes&t=1396593706309&n=3903020&k=mainentity)\\nFalse\\n']"
      ]
     },
     "execution_count": 437,
     "metadata": {},
     "output_type": "execute_result"
    }
   ],
   "source": [
    "mapping_dict = {\"Benign\": False, \"Malicious\": True}\n",
    "partial_format_function = partial(humaneval_style_format, label_column=\"Class\", payload_column=\"Payloads\", template =  example_template, mappig = mapping_dict)\n",
    "examples = sample_examples(trainset, samples_per_class=samples_to_extract, shuffle=True, format_function=partial_format_function)\n",
    "examples"
   ]
  },
  {
   "cell_type": "code",
   "execution_count": 438,
   "metadata": {},
   "outputs": [],
   "source": [
    "prompt_parameters[\"input\"] += \"\\n\"\n",
    "for example in examples:\n",
    "    prompt_parameters[\"input\"] += example"
   ]
  },
  {
   "cell_type": "code",
   "execution_count": 439,
   "metadata": {},
   "outputs": [
    {
     "name": "stdout",
     "output_type": "stream",
     "text": [
      "System: The user will provide the initial part of the function (function name, parameters with types, return type and a comment describing the purpose of the function, with some optional example. \n",
      "You are a coding assistant that writes some python code to complete the user's function. Be sure that the code is syntactically correct and that it returns the correct type. \n",
      "The lenght of the code should short, readable, and without redundant checks on the paylaod. \n",
      "Return only python code in Markdown format, e.g.:\n",
      "```python\n",
      "....\n",
      "```\n",
      "Human: def detect_xss(http_get_request: str)->bool: \n",
      "\"\"\" Check if in the given http_get_request there is an XSS exploit, considering also the possible evasions that an attacker can perform.\"\"\" \n",
      ">>> detect_xss(http://localhost:8080/tienda1/publico/pagar.jsp?modo=insertar&precio=1611&b1=pasar+por+caja)\n",
      "False\n",
      ">>> detect_xss(http://www.devrekanadolulisesi.k12.tr/for/login.asp?folder=&quot;&gt;&lt;script&gt;alert(document.cookie)&lt;/script&gt;<br>&gt;&lt;marquee&gt;&lt;h1&gt;by+narcoticxs&lt;/h1&gt;&lt;/marquee&gt;)\n",
      "True\n",
      ">>> detect_xss(http://www2.camarapoa.rs.gov.br/default.php?p_secao=%22%3e'%3e%3cscript%20src=http://vuln.xssed.net/<br>thirdparty/scripts/python5.js%3e%3c/script%3e)\n",
      "True\n",
      ">>> detect_xss(http://www.theatronhometheater.com/index.php?page=&quot;&gt;&lt;/iframe&gt;&lt;script&gt;alert(1);&lt;/script&gt;&amp;pagetitle=&lt;/<br>title&gt;&lt;script&gt;alert(1);&lt;/script&gt;)\n",
      "True\n",
      ">>> detect_xss(http://www.wikihow.com/make-a-peep-cake&t=1396546410095&n=1703252&k=mainentity)\n",
      "False\n",
      ">>> detect_xss(http://www.artcreationselite.com/login.asp?folder=&quot;&gt;&lt;script&gt;alert(document.cookie)&lt;/script&gt;&gt;&lt;marquee<br>&gt;&lt;h1&gt;by+narcoticxs&lt;/h1&gt;&lt;/marquee&gt;)\n",
      "True\n",
      ">>> detect_xss(http://www.wikihow.com/make-a-dessert-taco&t=1396515704711&n=208785&k=mainentity)\n",
      "False\n",
      ">>> detect_xss(http://www.wikihow.com/look-korean/ulzzang/asian-with-dolly-eyes&t=1396593706309&n=3903020&k=mainentity)\n",
      "False\n",
      "\n"
     ]
    }
   ],
   "source": [
    "print(prompt.format(**prompt_parameters))\n"
   ]
  },
  {
   "cell_type": "code",
   "execution_count": 440,
   "metadata": {},
   "outputs": [],
   "source": [
    "chain = prompt | model | StrOutputParser() | sanitize_output"
   ]
  }
 ],
 "metadata": {
  "kernelspec": {
   "display_name": ".venv",
   "language": "python",
   "name": "python3"
  },
  "language_info": {
   "codemirror_mode": {
    "name": "ipython",
    "version": 3
   },
   "file_extension": ".py",
   "mimetype": "text/x-python",
   "name": "python",
   "nbconvert_exporter": "python",
   "pygments_lexer": "ipython3",
   "version": "3.10.12"
  },
  "orig_nbformat": 4
 },
 "nbformat": 4,
 "nbformat_minor": 2
}
